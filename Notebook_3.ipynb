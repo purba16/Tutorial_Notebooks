{
 "cells": [
  {
   "cell_type": "markdown",
   "id": "3b414937",
   "metadata": {},
   "source": [
    "# ICTS IAGRG SCHOOL 3"
   ]
  },
  {
   "cell_type": "markdown",
   "id": "64c8ef6b",
   "metadata": {},
   "source": [
    "*Cosmic Tensions and Early Dark Energy*"
   ]
  },
  {
   "cell_type": "markdown",
   "id": "57e99d65",
   "metadata": {},
   "source": [
    "**The Cosmological Standard Model, its tensions and new physics**\n",
    "\n",
    "Lectures by Florian Niedermann \n",
    "\n",
    "Tutorials by Purba Mukherjee\n",
    "\n",
    "Email: purba16@gmail.com"
   ]
  },
  {
   "cell_type": "code",
   "execution_count": 1,
   "id": "bfea1cf5",
   "metadata": {},
   "outputs": [],
   "source": [
    "import os\n",
    "import subprocess\n",
    "\n",
    "import math\n",
    "import numpy as np\n",
    "import matplotlib.pyplot as plt\n",
    "\n",
    "from scipy.integrate import quad\n",
    "from scipy.constants import c as c_kms\n",
    "\n",
    "c = c_kms/1000."
   ]
  },
  {
   "cell_type": "markdown",
   "id": "fe25e028",
   "metadata": {},
   "source": [
    "# Trigger CLASS"
   ]
  },
  {
   "cell_type": "code",
   "execution_count": 2,
   "id": "6360466e",
   "metadata": {},
   "outputs": [
    {
     "name": "stdout",
     "output_type": "stream",
     "text": [
      "Directory TriggerCLASS already exists.\n"
     ]
    }
   ],
   "source": [
    "directory = \"TriggerCLASS\"\n",
    "repo_url = \"https://github.com/NEDE-Cosmo/TriggerCLASS.git\"\n",
    "\n",
    "if not os.path.isdir(directory):\n",
    "    print(f\"Directory {directory} does not exist. Cloning repository...\")\n",
    "    try:\n",
    "        result = subprocess.run([\"git\", \"clone\", repo_url], check=True, capture_output=True, text=True)\n",
    "        print(result.stdout)\n",
    "        print(f\"Repository cloned successfully into {directory}.\")\n",
    "    except subprocess.CalledProcessError as e:\n",
    "        print(f\"Error occurred while cloning the repository: {e.stderr}\")\n",
    "else:\n",
    "    print(f\"Directory {directory} already exists.\")"
   ]
  },
  {
   "cell_type": "markdown",
   "id": "6efbba57",
   "metadata": {},
   "source": [
    "**Installing TriggerCLASS**\n",
    "\n",
    "Open Terminal:\n",
    "\n",
    "$ cd class_public\n",
    "\n",
    "$ make -j // PYTHON=python3 make -j\n",
    "\n",
    "$ cd python\n",
    "\n",
    "$ python setup.py build\n",
    "\n",
    "$ python setup.py install --user"
   ]
  },
  {
   "cell_type": "code",
   "execution_count": 3,
   "id": "e184f133",
   "metadata": {},
   "outputs": [
    {
     "name": "stdout",
     "output_type": "stream",
     "text": [
      "cp python/setup.py python/autosetup.py\n",
      "cd python; export CC=gcc; python autosetup.py install || python autosetup.py install --user\n",
      "running install\n",
      "running build\n",
      "running build_ext\n",
      "There is a workaround to now inherit optimization CFLAGS when compiling wheels.\n",
      "To enable this, set APPLY_LP2002043_UBUNTU_CFLAGS_WORKAROUND in your\n",
      "environment. See LP: https://launchpad.net/bugs/2002043 for further context.\n",
      "APPLY_LP2002043_UBUNTU_CFLAGS_WORKAROUND not detected.\n",
      "skipping '/home/purba/Downloads/icts_iagrg3_school_2024/Florian/Tutorial_Notebooks/TriggerCLASS/python/../python/classy.c' Cython extension (up-to-date)\n",
      "building 'classy' extension\n",
      "creating build/temp.linux-x86_64-2.7\n",
      "creating build/temp.linux-x86_64-2.7/home\n",
      "creating build/temp.linux-x86_64-2.7/home/purba\n",
      "creating build/temp.linux-x86_64-2.7/home/purba/Downloads\n",
      "creating build/temp.linux-x86_64-2.7/home/purba/Downloads/icts_iagrg3_school_2024\n",
      "creating build/temp.linux-x86_64-2.7/home/purba/Downloads/icts_iagrg3_school_2024/Florian\n",
      "creating build/temp.linux-x86_64-2.7/home/purba/Downloads/icts_iagrg3_school_2024/Florian/Tutorial_Notebooks\n",
      "creating build/temp.linux-x86_64-2.7/home/purba/Downloads/icts_iagrg3_school_2024/Florian/Tutorial_Notebooks/TriggerCLASS\n",
      "creating build/temp.linux-x86_64-2.7/home/purba/Downloads/icts_iagrg3_school_2024/Florian/Tutorial_Notebooks/TriggerCLASS/python\n",
      "gcc -fno-strict-aliasing -Wdate-time -D_FORTIFY_SOURCE=2 -g -fdebug-prefix-map=/build/python2.7-CxOYiX/python2.7-2.7.18=. -fstack-protector-strong -Wformat -Werror=format-security -fPIC -I/home/purba/.local/lib/python2.7/site-packages/numpy/core/include -I/home/purba/Downloads/icts_iagrg3_school_2024/Florian/Tutorial_Notebooks/TriggerCLASS/python/../include -I/usr/include/python2.7 -c /home/purba/Downloads/icts_iagrg3_school_2024/Florian/Tutorial_Notebooks/TriggerCLASS/python/../python/classy.c -o build/temp.linux-x86_64-2.7/home/purba/Downloads/icts_iagrg3_school_2024/Florian/Tutorial_Notebooks/TriggerCLASS/python/../python/classy.o\n",
      "In file included from \u001b[01m\u001b[K/home/purba/.local/lib/python2.7/site-packages/numpy/core/include/numpy/ndarraytypes.h:1788\u001b[m\u001b[K,\n",
      "                 from \u001b[01m\u001b[K/home/purba/.local/lib/python2.7/site-packages/numpy/core/include/numpy/ndarrayobject.h:18\u001b[m\u001b[K,\n",
      "                 from \u001b[01m\u001b[K/home/purba/.local/lib/python2.7/site-packages/numpy/core/include/numpy/arrayobject.h:4\u001b[m\u001b[K,\n",
      "                 from \u001b[01m\u001b[K/home/purba/Downloads/icts_iagrg3_school_2024/Florian/Tutorial_Notebooks/TriggerCLASS/python/../python/classy.c:598\u001b[m\u001b[K:\n",
      "\u001b[01m\u001b[K/home/purba/.local/lib/python2.7/site-packages/numpy/core/include/numpy/npy_1_7_deprecated_api.h:15:2:\u001b[m\u001b[K \u001b[01;35m\u001b[Kwarning: \u001b[m\u001b[K#warning \"Using deprecated NumPy API, disable it by \" \"#defining NPY_NO_DEPRECATED_API NPY_1_7_API_VERSION\" [\u001b[01;35m\u001b[K-Wcpp\u001b[m\u001b[K]\n",
      "   15 | #\u001b[01;35m\u001b[Kwarning\u001b[m\u001b[K \"Using deprecated NumPy API, disable it by \" \\\n",
      "      |  \u001b[01;35m\u001b[K^~~~~~~\u001b[m\u001b[K\n",
      "creating build/lib.linux-x86_64-2.7\n",
      "x86_64-linux-gnu-gcc -pthread -shared -Wl,-O1 -Wl,-Bsymbolic-functions -Wl,-Bsymbolic-functions -Wl,-z,relro -fno-strict-aliasing -DNDEBUG -g -fwrapv -O2 -Wall -Wstrict-prototypes -Wdate-time -D_FORTIFY_SOURCE=2 -g -fdebug-prefix-map=/build/python2.7-CxOYiX/python2.7-2.7.18=. -fstack-protector-strong -Wformat -Werror=format-security -Wl,-Bsymbolic-functions -Wl,-z,relro -Wdate-time -D_FORTIFY_SOURCE=2 -g -fdebug-prefix-map=/build/python2.7-CxOYiX/python2.7-2.7.18=. -fstack-protector-strong -Wformat -Werror=format-security -fPIC build/temp.linux-x86_64-2.7/home/purba/Downloads/icts_iagrg3_school_2024/Florian/Tutorial_Notebooks/TriggerCLASS/python/../python/classy.o -L/home/purba/Downloads/icts_iagrg3_school_2024/Florian/Tutorial_Notebooks/TriggerCLASS/python/.. -L/usr/lib/gcc/x86_64-linux-gnu/9 -lclass -lmvec -lm -o build/lib.linux-x86_64-2.7/classy.so -lgomp\n",
      "running install_lib\n",
      "copying build/lib.linux-x86_64-2.7/classy.so -> /usr/local/lib/python2.7/dist-packages\n",
      "running install_egg_info\n",
      "Removing /usr/local/lib/python2.7/dist-packages/classy-2.9.4.egg-info\n",
      "Writing /usr/local/lib/python2.7/dist-packages/classy-2.9.4.egg-info\n",
      "rm python/autosetup.py\n",
      "running build\n",
      "running build_ext\n",
      "There is a workaround to now inherit optimization CFLAGS when compiling wheels.\n",
      "To enable this, set APPLY_LP2002043_UBUNTU_CFLAGS_WORKAROUND in your\n",
      "environment. See LP: https://launchpad.net/bugs/2002043 for further context.\n",
      "APPLY_LP2002043_UBUNTU_CFLAGS_WORKAROUND not detected.\n",
      "skipping '/home/purba/Downloads/icts_iagrg3_school_2024/Florian/Tutorial_Notebooks/TriggerCLASS/python/../python/classy.c' Cython extension (up-to-date)\n",
      "running install\n",
      "running build\n",
      "running build_ext\n",
      "There is a workaround to now inherit optimization CFLAGS when compiling wheels.\n",
      "To enable this, set APPLY_LP2002043_UBUNTU_CFLAGS_WORKAROUND in your\n",
      "environment. See LP: https://launchpad.net/bugs/2002043 for further context.\n",
      "APPLY_LP2002043_UBUNTU_CFLAGS_WORKAROUND not detected.\n",
      "skipping '/home/purba/Downloads/icts_iagrg3_school_2024/Florian/Tutorial_Notebooks/TriggerCLASS/python/../python/classy.c' Cython extension (up-to-date)\n",
      "running install_lib\n",
      "copying build/lib.linux-x86_64-2.7/classy.so -> /home/purba/.local/lib/python2.7/site-packages\n",
      "running install_egg_info\n",
      "Writing /home/purba/.local/lib/python2.7/site-packages/classy-2.9.4.egg-info\n"
     ]
    }
   ],
   "source": [
    "workdir = os.getcwd()\n",
    "\n",
    "os.chdir(\"TriggerCLASS\")\n",
    "!make -j\n",
    "#!PYTHON=python3 make -j\n",
    "\n",
    "os.chdir(\"python\")\n",
    "!python setup.py build\n",
    "!python setup.py install --user\n",
    "\n",
    "#!python3 setup.py build\n",
    "#!python3 setup.py install --user\n",
    "os.chdir(workdir)"
   ]
  },
  {
   "cell_type": "code",
   "execution_count": 4,
   "id": "7aec4c73",
   "metadata": {},
   "outputs": [
    {
     "data": {
      "text/plain": [
       "'v2.9.4'"
      ]
     },
     "execution_count": 4,
     "metadata": {},
     "output_type": "execute_result"
    }
   ],
   "source": [
    "import classy\n",
    "classy.__version__"
   ]
  },
  {
   "cell_type": "code",
   "execution_count": 5,
   "id": "c8230286",
   "metadata": {},
   "outputs": [],
   "source": [
    "from classy import Class"
   ]
  },
  {
   "cell_type": "code",
   "execution_count": 6,
   "id": "589b663c",
   "metadata": {},
   "outputs": [],
   "source": [
    "Trigger = Class()\n",
    "Trigger.set({'Omega_cdm':0.25,'Omega_b':0.05,'f_NEDE':0.20,'z_decay_NEDE':4300})\n",
    "Trigger.compute()"
   ]
  },
  {
   "cell_type": "code",
   "execution_count": 7,
   "id": "c1ee649c",
   "metadata": {},
   "outputs": [],
   "source": [
    "zz = np.linspace(0, 10, 1001)\n",
    "\n",
    "H0_trigger = Trigger.Hubble(0)*c\n",
    "Hz_trigger = []\n",
    "\n",
    "for i in range(len(zz)):\n",
    "    Hz_trigger.append(Trigger.Hubble(zz[i])*c)"
   ]
  },
  {
   "cell_type": "code",
   "execution_count": 8,
   "id": "3a6aa07b",
   "metadata": {},
   "outputs": [
    {
     "data": {
      "image/png": "[encoded data removed]",
      "text/plain": [
       "<Figure size 432x288 with 1 Axes>"
      ]
     },
     "metadata": {
      "needs_background": "light"
     },
     "output_type": "display_data"
    }
   ],
   "source": [
    "plt.xlim(0., 10.)\n",
    "plt.xlabel(\"z\")\n",
    "plt.ylabel(\"$E(z)$\")\n",
    "plt.plot(zz, np.array(Hz_trigger)/H0_trigger)\n",
    "\n",
    "plt.show()"
   ]
  },
  {
   "cell_type": "markdown",
   "id": "0666bb5b",
   "metadata": {},
   "source": [
    "# **Problem 8 <span style=\"color:blue\">[Boltzmann solver]</span>:**"
   ]
  },
  {
   "cell_type": "raw",
   "id": "385a1858",
   "metadata": {},
   "source": [
    "N_ur = 2.0328\n",
    "N_ncdm = 1\n",
    "m_ncdm = 0.06\n",
    "T_ncdm = 0.71611\n",
    "\n",
    "LCDM = Class()\n",
    "LCDM.set({'output':'tCl,pCl,lCl','lensing':'yes',\n",
    "          'omega_b':2.246104358e-02,\n",
    "          'omega_cdm':1.183155e-01,\n",
    "          'h':6.816150e-01,\n",
    "          'ln10^{10}A_s':3.053159,\n",
    "          'n_s':9.670401334e-01,\n",
    "          'tau_reio':6.018299300e-02,\n",
    "          'k_output_values':'0.00001,0.001,0.01,0.04,0.5',\n",
    "          'output':'tCl,pCl,lCl,mPk',\n",
    "          'N_ur':N_ur, 'N_ncdm':N_ncdm, 'm_ncdm':m_ncdm, 'T_ncdm':T_ncdm,\n",
    "          'P_k_max_1/Mpc':3.0,'z_max_pk': 3.,'l_switch_limber':9\n",
    "          })\n",
    "LCDM.compute()\n",
    "LCDM_bg = LCDM.get_background()\n",
    "LCDM_pert = LCDM.get_perturbations()\n",
    "\n",
    "\n",
    "NEDE = Class()\n",
    "NEDE.set({\n",
    "    'sub_dom_cond':1.e-6,\n",
    "    'back_integration_stepsize':5.e-3,\n",
    "    'decay_res_enhancement':100,\n",
    "    'Junction_tag':1,\n",
    "    'three_eos_NEDE':2.045009,\n",
    "    'three_cvis2_NEDE':0,\n",
    "    'f_NEDE': 1.653329e-01,\n",
    "    'z_decay_NEDE' : 10**3.636614,\n",
    "    'omega_b':2.307324e-02,\n",
    "    'omega_cdm':1.180862882e-01,\n",
    "    'h':6.818145238e-01,\n",
    "    'ln10^{10}A_s':3.092596,\n",
    "    'n_s':9.924328e-01,\n",
    "    'tau_reio':6.654461e-02,\n",
    "    'H_over_m_NEDE':0.2,\n",
    "    'k_output_values':'0.00001,0.001,0.01,0.1,0.5',\n",
    "    'start_small_k_at_tau_c_over_tau_h':0.0000001,\n",
    "    'output':'tCl,pCl,lCl,mPk','lensing':'yes','background_verbose':'4','perturbations_verbose':'2',\n",
    "    'NEDE_trigger_fluid_H_m':0.01,\n",
    "    'trigger_resolution':0.05,\n",
    "    'P_k_max_1/Mpc':3.0,'z_max_pk': 3.,'l_switch_limber':9,\n",
    "    'Omega0_NEDE_trigger_DM':4.532702e-03,\n",
    "    'background_verbose':0,\n",
    "    'perturbations_verbose':0\n",
    "         })\n",
    "         \n",
    "NEDE.compute()"
   ]
  },
  {
   "cell_type": "markdown",
   "id": "79b2d778",
   "metadata": {},
   "source": [
    "**(a) Follow the instructions on the website to install the software on your laptop.**"
   ]
  },
  {
   "cell_type": "code",
   "execution_count": null,
   "id": "1cfa700f",
   "metadata": {},
   "outputs": [],
   "source": []
  },
  {
   "cell_type": "markdown",
   "id": "82ef2a47",
   "metadata": {},
   "source": [
    "**(b) Plot the CMB temperature power spectrum for the ΛCDM cosmology.**"
   ]
  },
  {
   "cell_type": "code",
   "execution_count": null,
   "id": "defec7c7",
   "metadata": {},
   "outputs": [],
   "source": []
  },
  {
   "cell_type": "markdown",
   "id": "64da25ff",
   "metadata": {},
   "source": [
    "**(c) Increase the value of $H_0$ to the SH0ES value while keeping the angular size of the sound horizon $\\theta_s$ fixed.**\n",
    "\n",
    "This can be achieved by lowering the (dimensionless) cold dark matter density $\\omega_{\\rm cdm}$\n",
    "\n",
    "**How does the power spectrum change after this position adjustment ?**"
   ]
  },
  {
   "cell_type": "code",
   "execution_count": null,
   "id": "c7a93e79",
   "metadata": {},
   "outputs": [],
   "source": []
  },
  {
   "cell_type": "markdown",
   "id": "28daee4d",
   "metadata": {},
   "source": [
    "**(d) Run the typical new early dark energy cosmology. Show that increasing $f_{\\rm NEDE}$ and increasing $H_0$ act oppositely on the temperature power spectrum.**\n",
    "\n",
    "*Again, keep $\\theta_s$ fixed by adapting $\\omega_{\\rm cdm}$*"
   ]
  },
  {
   "cell_type": "code",
   "execution_count": null,
   "id": "341cbd58",
   "metadata": {},
   "outputs": [],
   "source": []
  },
  {
   "cell_type": "markdown",
   "id": "69480aa9",
   "metadata": {},
   "source": [
    "**1. Compare the linear $P(k)$ vs $k$ obtained for $\\Lambda$CDM cosmology and NEDE model with TriggerCLASS**"
   ]
  },
  {
   "cell_type": "code",
   "execution_count": null,
   "id": "26c9180b",
   "metadata": {},
   "outputs": [],
   "source": []
  },
  {
   "cell_type": "markdown",
   "id": "d7b9747b",
   "metadata": {},
   "source": [
    "**2. Plot $\\frac{P(k)_{\\rm linear \\vert NEDE}}{P(k)_{\\rm linear \\vert \\Lambda CDM}} - 1$ vs $k$ obtained for $\\Lambda$CDM cosmology and NEDE model with TriggerCLASS**"
   ]
  },
  {
   "cell_type": "code",
   "execution_count": null,
   "id": "37ea2cac",
   "metadata": {},
   "outputs": [],
   "source": []
  }
 ],
 "metadata": {
  "kernelspec": {
   "display_name": "Python 3",
   "language": "python",
   "name": "python3"
  },
  "language_info": {
   "codemirror_mode": {
    "name": "ipython",
    "version": 3
   },
   "file_extension": ".py",
   "mimetype": "text/x-python",
   "name": "python",
   "nbconvert_exporter": "python",
   "pygments_lexer": "ipython3",
   "version": "3.8.10"
  }
 },
 "nbformat": 4,
 "nbformat_minor": 5
}
