{
 "cells": [
  {
   "cell_type": "markdown",
   "id": "5a9c22e7",
   "metadata": {},
   "source": [
    "# ICTS IAGRG SCHOOL 3"
   ]
  },
  {
   "cell_type": "markdown",
   "id": "d511670d",
   "metadata": {},
   "source": [
    "**Cosmic Tensions and Early Dark Energy**"
   ]
  },
  {
   "cell_type": "markdown",
   "id": "597e0e37",
   "metadata": {},
   "source": [
    "**The Cosmological Standard Model, its tensions and new physics**"
   ]
  },
  {
   "cell_type": "markdown",
   "id": "69592abe",
   "metadata": {},
   "source": [
    "Lectures by Florian Niedermann \n",
    "\n",
    "Tutorials by Purba Mukherjee\n",
    "\n",
    "Email: purba16@gmail.com"
   ]
  },
  {
   "cell_type": "markdown",
   "id": "a62c1fc2",
   "metadata": {},
   "source": [
    "# Importing modules"
   ]
  },
  {
   "cell_type": "code",
   "execution_count": 1,
   "id": "eebc1099",
   "metadata": {},
   "outputs": [
    {
     "name": "stderr",
     "output_type": "stream",
     "text": [
      "/home/purba/.local/lib/python3.8/site-packages/pkg_resources/__init__.py:123: PkgResourcesDeprecationWarning: W-CLASS-v3.2.0 is an invalid version and will not be supported in a future release\n",
      "  warnings.warn(\n"
     ]
    },
    {
     "name": "stdout",
     "output_type": "stream",
     "text": [
      "'numpy' is already installed.\n",
      "'scipy' is already installed.\n",
      "'corner' is already installed.\n",
      "'emcee' is already installed.\n",
      "'pandas' is already installed.\n",
      "'getdist' is already installed.\n",
      "'mpi4py' is already installed.\n",
      "'cython' is already installed.\n"
     ]
    }
   ],
   "source": [
    "import os\n",
    "import sys\n",
    "import importlib\n",
    "import subprocess\n",
    "\n",
    "import numpy as np\n",
    "import matplotlib.pyplot as plt\n",
    "import pandas as pd\n",
    "\n",
    "from scipy.integrate import quad\n",
    "from scipy import constants\n",
    "from scipy.constants import c as c_kms\n",
    "import scipy.optimize as opt\n",
    "import scipy.stats\n",
    "import scipy.linalg as la\n",
    "\n",
    "import time\n",
    "import corner\n",
    "import emcee\n",
    "from multiprocessing import Pool, cpu_count\n",
    "\n",
    "c = c_kms/1000.\n",
    "\n",
    "required_modules = [\n",
    "    'numpy', 'scipy', 'corner', 'emcee', 'pandas', 'getdist', 'mpi4py', 'cython'\n",
    "]\n",
    "\n",
    "def check_and_install_module(module_name):\n",
    "    try:\n",
    "        importlib.import_module(module_name)\n",
    "        print(f\"'{module_name}' is already installed.\")\n",
    "    except ImportError:\n",
    "        print(f\"'{module_name}' is not installed. Installing...\")\n",
    "        !{sys.executable} -m pip install {module_name}\n",
    "\n",
    "for module in required_modules:\n",
    "    check_and_install_module(module)"
   ]
  },
  {
   "cell_type": "markdown",
   "id": "2c9db844",
   "metadata": {},
   "source": [
    "# Datasets"
   ]
  },
  {
   "cell_type": "markdown",
   "id": "35f3d693",
   "metadata": {},
   "source": [
    "**Clone data sets from git repo: do this only once**"
   ]
  },
  {
   "cell_type": "code",
   "execution_count": 2,
   "id": "06c59d30",
   "metadata": {},
   "outputs": [
    {
     "name": "stdout",
     "output_type": "stream",
     "text": [
      "Directory sn_data already exists.\n"
     ]
    }
   ],
   "source": [
    "directory = \"sn_data\"\n",
    "repo_url = \"https://github.com/CobayaSampler/sn_data.git\"\n",
    "\n",
    "if not os.path.isdir(directory):\n",
    "    print(f\"Directory {directory} does not exist. Cloning repository...\")\n",
    "    try:\n",
    "        result = subprocess.run([\"git\", \"clone\", repo_url], check=True, capture_output=True, text=True)\n",
    "        print(result.stdout)\n",
    "        print(f\"Repository cloned successfully into {directory}.\")\n",
    "    except subprocess.CalledProcessError as e:\n",
    "        print(f\"Error occurred while cloning the repository: {e.stderr}\")\n",
    "else:\n",
    "    print(f\"Directory {directory} already exists.\")"
   ]
  },
  {
   "cell_type": "code",
   "execution_count": 3,
   "id": "9f25e3a9",
   "metadata": {},
   "outputs": [
    {
     "name": "stdout",
     "output_type": "stream",
     "text": [
      "Directory bao_data already exists.\n"
     ]
    }
   ],
   "source": [
    "directory = \"bao_data\"\n",
    "repo_url = \"https://github.com/CobayaSampler/bao_data.git\"\n",
    "\n",
    "if not os.path.isdir(directory):\n",
    "    print(f\"Directory {directory} does not exist. Cloning repository...\")\n",
    "    try:\n",
    "        result = subprocess.run([\"git\", \"clone\", repo_url], check=True, capture_output=True, text=True)\n",
    "        print(result.stdout)\n",
    "        print(f\"Repository cloned successfully into {directory}.\")\n",
    "    except subprocess.CalledProcessError as e:\n",
    "        print(f\"Error occurred while cloning the repository: {e.stderr}\")\n",
    "else:\n",
    "    print(f\"Directory {directory} already exists.\")"
   ]
  },
  {
   "cell_type": "markdown",
   "id": "eb774a94",
   "metadata": {},
   "source": [
    "# Vizualization"
   ]
  },
  {
   "cell_type": "markdown",
   "id": "d003394c",
   "metadata": {},
   "source": [
    "**Pantheon**"
   ]
  },
  {
   "cell_type": "code",
   "execution_count": 4,
   "id": "3a395c07",
   "metadata": {},
   "outputs": [],
   "source": [
    "z_cmb_pan, z_hel_pan, m_pan, err_pan = np.loadtxt(\"sn_data/Pantheon/lcparam_full_long_zhel.txt\", usecols=(1,2,4,5), unpack=True)\n",
    "cov_sys_pan = np.reshape(np.loadtxt('sn_data/Pantheon/sys_full_long.txt', skiprows =1), (len(m_pan), len(m_pan)))\n",
    "\n",
    "cov_stat_pan = np.diagflat(err_pan)**2\n",
    "cov_pan = np.add(cov_sys_pan, cov_stat_pan)"
   ]
  },
  {
   "cell_type": "code",
   "execution_count": 5,
   "id": "838249d6",
   "metadata": {},
   "outputs": [
    {
     "data": {
      "text/plain": [
       "<ErrorbarContainer object of 3 artists>"
      ]
     },
     "execution_count": 5,
     "metadata": {},
     "output_type": "execute_result"
    },
    {
     "data": {
      "image/png": "[encoded data removed]",
      "text/plain": [
       "<Figure size 432x288 with 1 Axes>"
      ]
     },
     "metadata": {
      "needs_background": "light"
     },
     "output_type": "display_data"
    }
   ],
   "source": [
    "plt.xlabel('z')\n",
    "plt.ylabel('m(z)')\n",
    "plt.errorbar(z_cmb_pan, m_pan, err_pan, fmt='.', ls='', lw=1, capsize=2, c='k', ecolor='r')"
   ]
  },
  {
   "cell_type": "markdown",
   "id": "9181226e",
   "metadata": {},
   "source": [
    "**Conversion to distance modulus and luminosity distance**\n",
    "\n",
    "Use: $\\mu = m - M_B = 5\\log_{10} \\left(\\frac{d_L}{1 Mpc} \\right) +  25.$\n",
    "\n",
    "Take (i) $M_B = -19.4$ and (ii) $M_B$ from SH0ES $\\approx -19.244 $ and compare.\n",
    "\n",
    "Plot the differences!"
   ]
  },
  {
   "cell_type": "code",
   "execution_count": null,
   "id": "83036168",
   "metadata": {},
   "outputs": [],
   "source": []
  },
  {
   "cell_type": "markdown",
   "id": "f5bcb94f",
   "metadata": {},
   "source": [
    "**DESI BAO**"
   ]
  },
  {
   "cell_type": "code",
   "execution_count": 6,
   "id": "fa5008f4",
   "metadata": {},
   "outputs": [],
   "source": [
    "# DESI 2024 Y1 DATA\n",
    "\n",
    "cov_desi = np.loadtxt(\"bao_data/desi_2024_gaussian_bao_ALL_GCcomb_cov.txt\")\n",
    "\n",
    "z_all_desi, mean_desi, obs_desi = np.loadtxt('bao_data/desi_2024_gaussian_bao_ALL_GCcomb_mean.txt',\n",
    "                                          dtype={'names': ('z', 'value', 'quantity'),\n",
    "                                                 'formats': (float, float, 'U32')}, unpack=True)\n",
    "\n",
    "z_desi= []\n",
    "DM_rd_desi = []\n",
    "DH_rd_desi = [] \n",
    "\n",
    "z2_desi= []\n",
    "DV_rd_desi = [] \n",
    "\n",
    "for z, value, quantity in zip(z_all_desi, mean_desi, obs_desi):\n",
    "    if quantity == 'DM_over_rs':\n",
    "        z_desi.append(z)\n",
    "        DM_rd_desi.append(value)\n",
    "    elif quantity == 'DH_over_rs':\n",
    "        DH_rd_desi.append(value)\n",
    "\n",
    "    elif quantity == 'DV_over_rs':\n",
    "        DV_rd_desi.append(value)\n",
    "        z2_desi.append(z)\n",
    "\n",
    "z_desi = np.array(z_desi)\n",
    "DM_rd_desi = np.array(DM_rd_desi)\n",
    "DH_rd_desi = np.array(DH_rd_desi)\n",
    "\n",
    "z2_desi = np.array(z2_desi)\n",
    "DV_rd_desi = np.array(DV_rd_desi)"
   ]
  },
  {
   "cell_type": "code",
   "execution_count": 7,
   "id": "8b601fce",
   "metadata": {},
   "outputs": [],
   "source": [
    "var_DM_rd_desi = []\n",
    "var_DH_rd_desi = []\n",
    "var_DV_rd_desi = []\n",
    "\n",
    "for i in range(len(z_all_desi)):\n",
    "    if obs_desi[i] == 'DM_over_rs':\n",
    "        var_DM_rd_desi.append(np.diag(cov_desi)[i])\n",
    "    if obs_desi[i] == 'DH_over_rs':\n",
    "        var_DH_rd_desi.append(np.diag(cov_desi)[i])\n",
    "    if obs_desi[i] == 'DV_over_rs':\n",
    "        var_DV_rd_desi.append(np.diag(cov_desi)[i])\n",
    "        \n",
    "var_DM_rd_desi = np.array(var_DM_rd_desi)\n",
    "var_DH_rd_desi = np.array(var_DH_rd_desi)\n",
    "var_DV_rd_desi = np.array(var_DV_rd_desi)"
   ]
  },
  {
   "cell_type": "code",
   "execution_count": 8,
   "id": "091bc978",
   "metadata": {},
   "outputs": [
    {
     "data": {
      "image/png": "[encoded data removed]",
      "text/plain": [
       "<Figure size 432x288 with 1 Axes>"
      ]
     },
     "metadata": {
      "needs_background": "light"
     },
     "output_type": "display_data"
    }
   ],
   "source": [
    "plt.xlabel('z')\n",
    "plt.ylabel('$D_M/r_s(z)$')\n",
    "plt.errorbar(z_desi, DM_rd_desi, var_DM_rd_desi**0.5, fmt='.', ls='', lw=1, capsize=2, c='k', ecolor='r')\n",
    "plt.show()"
   ]
  },
  {
   "cell_type": "code",
   "execution_count": 9,
   "id": "49567daa",
   "metadata": {},
   "outputs": [
    {
     "data": {
      "image/png": "[encoded data removed]",
      "text/plain": [
       "<Figure size 432x288 with 1 Axes>"
      ]
     },
     "metadata": {
      "needs_background": "light"
     },
     "output_type": "display_data"
    }
   ],
   "source": [
    "plt.xlabel('z')\n",
    "plt.ylabel('$D_H/r_s(z)$')\n",
    "plt.errorbar(z_desi, DH_rd_desi, var_DH_rd_desi**0.5, fmt='.', ls='', lw=1, capsize=2, c='k', ecolor='r')\n",
    "plt.show()"
   ]
  },
  {
   "cell_type": "markdown",
   "id": "c102997a",
   "metadata": {},
   "source": [
    "**Show the Hubble parameter and Angular diameter distance at BAO  redshifts**\n",
    "\n",
    "Use: $D_H(z) = \\frac{c}{H(z)}$, and \n",
    "\n",
    "$D_A(z) = \\frac{D_M}{(1+z)} = \\frac{c}{(1+z)} \\int_0^z \\frac{1}{H(z)} {\\rm d} z$\n",
    "\n",
    "Take (i) $r_d$ from Planck (147.09 Mpc) and (ii) $r_d \\approx$ 135 Mpc.\n",
    "\n",
    "Plot the differences!"
   ]
  },
  {
   "cell_type": "code",
   "execution_count": null,
   "id": "da7b50bd",
   "metadata": {},
   "outputs": [],
   "source": []
  },
  {
   "cell_type": "code",
   "execution_count": null,
   "id": "59e43c99",
   "metadata": {},
   "outputs": [],
   "source": []
  },
  {
   "cell_type": "code",
   "execution_count": null,
   "id": "86138c8a",
   "metadata": {},
   "outputs": [],
   "source": []
  },
  {
   "cell_type": "markdown",
   "id": "64b6f610",
   "metadata": {},
   "source": [
    "# Comparison with $\\Lambda$CDM"
   ]
  },
  {
   "cell_type": "code",
   "execution_count": 10,
   "id": "cdd32619",
   "metadata": {},
   "outputs": [],
   "source": [
    "omega_b = 0.05\n",
    "omega_c = 0.25\n",
    "omega_m = omega_b + omega_c\n",
    "omega_r = 9e-5\n",
    "H0 = 67.4\n",
    "rd = 147.09"
   ]
  },
  {
   "cell_type": "code",
   "execution_count": 11,
   "id": "5f87da12",
   "metadata": {},
   "outputs": [],
   "source": [
    "class lcdm(object):\n",
    "    def __init__(self, omega_m, H0, rd, omega_b=0.05, omega_r=9e-5):\n",
    "        self.omega_m = float(omega_m)\n",
    "        self.H0 = float(H0)\n",
    "        self.rd = float(rd)\n",
    "        self.omega_b = float(omega_b)\n",
    "        self.omega_r = float(omega_r)\n",
    "\n",
    "    def Ez(self, z):\n",
    "        return np.sqrt(self.omega_m*(1.+z)**3. + self.omega_r*(1+z)**4 + (1.-self.omega_m-self.omega_r))\n",
    "\n",
    "    def Hz(self,z):\n",
    "        return self.H0 * self.Ez(z)\n",
    "\n",
    "    def inv_Ez(self, z):\n",
    "        return 1./self.Ez(z)\n",
    "\n",
    "    def dMz(self, z1):\n",
    "        return c/self.H0 * quad(self.inv_Ez, 0, z1)[0]\n",
    "\n",
    "    def dAz(self, z):\n",
    "        return self.dMz(z)/(1.+z)\n",
    "\n",
    "    def dLz(self, z):\n",
    "        return self.dMz(z)*(1.+z)\n",
    "\n",
    "    def z_drag_epoch(self):         \n",
    "        \"\"\" Eisenstein and Hu; arxiv:astro-ph/9709112 \"\"\"\n",
    "        h = self.H0/100.\n",
    "        b1 = 0.313*((self.omega_m*h**2)**(-0.419))*(1+0.607*(self.omega_m*h**2)**0.674)\n",
    "        b2 = 0.238*(self.omega_m*h**2)**0.223\n",
    "        return 1291.*(self.omega_m*h**2)**0.251*(1+b1*(self.omega_m*h**2)**b2)/(1+0.659*(self.omega_m*h**2)**0.828)\n",
    "\n",
    "    def sound_horizon(self, z):\n",
    "        h = self.H0/100.\n",
    "        Tcmb = 2.728\n",
    "        R1 = 31500*(self.omega_b*h**2)*(Tcmb/2.7)**(-4)*1/(1.+z)\n",
    "\n",
    "        def integrand1(z):\n",
    "            return 1/(np.sqrt(3*(1+R1))*self.Ez(z))\n",
    "        return c / self.H0*quad(integrand1, 1100, np.inf)[0]\n",
    "\n",
    "    def t_Hub(self):\n",
    "        h = self.H0/100.\n",
    "        return 9.78/h\n",
    "\n",
    "    def age_of_universe(self, z):\n",
    "        integrand = lambda zz: 1./((1+zz)*self.Ez(zz))\n",
    "        t0=quad(integrand,z,np.inf)[0]\n",
    "        return t0*self.t_Hub()\n",
    "\n",
    "    def dMrdz(self,z):\n",
    "        return self.dMz(z)/self.rd\n",
    "#        z_drag = self.z_drag_epoch()\n",
    "#        return self.dMz(z)/self.sound_horizon(z_drag)\n",
    "\n",
    "    def dHrdz(self,z):\n",
    "        return c /(self.H0 * self.Ez(z)) / self.rd\n",
    "#        z_drag = self.z_drag_epoch()\n",
    "#        return c /(self.H0 * self.Ez(z))/self.sound_horizon(z_drag)\n",
    "\n",
    "    def dArdz(self, z):\n",
    "        return self.dAz(z)/self.rd\n",
    "#        z_drag = self.z_drag_epoch()\n",
    "#        return self.dAz(z)/self.sound_horizon(z_drag)\n",
    "\n",
    "class wcdm(lcdm):\n",
    "    \"\"\"\n",
    "    wCDM\n",
    "    \"\"\"\n",
    "    def __init__(self, omega_m, H0, rd, w, omega_b=0.05, omega_r=9e-5):\n",
    "        self.omega_m = float(omega_m)\n",
    "        self.H0 = float(H0)\n",
    "        self.rd = float(rd)\n",
    "        self.w = float(w)\n",
    "        self.omega_b = float(omega_b)\n",
    "        self.omega_r = float(omega_r)\n",
    "\n",
    "    def Ez(self, z):\n",
    "        return np.sqrt(self.omega_m*(1.+z)**3. + self.omega_r*(1+z)**4 + (1.-self.omega_m-self.omega_r)*(1+z)**(3.*(1+self.w)))"
   ]
  },
  {
   "cell_type": "markdown",
   "id": "c96b7b29",
   "metadata": {},
   "source": [
    "**Plot the evolution of $H(z)$, $d_L(z)$, $d_M(z)$ and $d_A(z)$. Compare these with the data**"
   ]
  },
  {
   "cell_type": "code",
   "execution_count": 12,
   "id": "870d1245",
   "metadata": {},
   "outputs": [
    {
     "data": {
      "image/png": "[encoded data removed]",
      "text/plain": [
       "<Figure size 432x288 with 1 Axes>"
      ]
     },
     "metadata": {
      "needs_background": "light"
     },
     "output_type": "display_data"
    }
   ],
   "source": [
    "zz = np.linspace(0., 10., 1001)\n",
    "model = lcdm(omega_m, H0, rd)\n",
    "\n",
    "plt.xlim(0, 10.)\n",
    "plt.xlabel(\"z\")\n",
    "plt.ylabel(\"$E(z)$\")\n",
    "plt.plot(zz, model.Ez(zz))\n",
    "plt.show()"
   ]
  },
  {
   "cell_type": "code",
   "execution_count": null,
   "id": "fca666b8",
   "metadata": {},
   "outputs": [],
   "source": []
  },
  {
   "cell_type": "code",
   "execution_count": null,
   "id": "52aaff50",
   "metadata": {},
   "outputs": [],
   "source": []
  },
  {
   "cell_type": "markdown",
   "id": "fc6918ba",
   "metadata": {},
   "source": [
    "**Write a similar module for the CPL dark energy parametrization:**\n",
    "\n",
    "$w(z) = w_0 + w_a \\frac{z}{1+z}$\n",
    "\n",
    "Use $w_0$ = -0.827 and $w_a$ = -0.75.\n",
    "\n",
    "Compare the behaviour of model with $\\Lambda$CDM. Show comparison plots."
   ]
  },
  {
   "cell_type": "code",
   "execution_count": null,
   "id": "87a2f995",
   "metadata": {},
   "outputs": [],
   "source": []
  },
  {
   "cell_type": "code",
   "execution_count": null,
   "id": "d546956e",
   "metadata": {},
   "outputs": [],
   "source": []
  },
  {
   "cell_type": "code",
   "execution_count": null,
   "id": "8080c91d",
   "metadata": {},
   "outputs": [],
   "source": []
  },
  {
   "cell_type": "code",
   "execution_count": null,
   "id": "539777f1",
   "metadata": {},
   "outputs": [],
   "source": []
  },
  {
   "cell_type": "markdown",
   "id": "2c8cda71",
   "metadata": {},
   "source": [
    "# Working with CLASS"
   ]
  },
  {
   "cell_type": "code",
   "execution_count": 13,
   "id": "b45917ab",
   "metadata": {},
   "outputs": [
    {
     "name": "stdout",
     "output_type": "stream",
     "text": [
      "Directory class_public already exists.\n"
     ]
    }
   ],
   "source": [
    "directory = \"class_public\"\n",
    "repo_url = \"https://github.com/lesgourg/class_public.git\"\n",
    "\n",
    "if not os.path.isdir(directory):\n",
    "    print(f\"Directory {directory} does not exist. Cloning repository...\")\n",
    "    try:\n",
    "        result = subprocess.run([\"git\", \"clone\", repo_url], check=True, capture_output=True, text=True)\n",
    "        print(result.stdout)\n",
    "        print(f\"Repository cloned successfully into {directory}.\")\n",
    "    except subprocess.CalledProcessError as e:\n",
    "        print(f\"Error occurred while cloning the repository: {e.stderr}\")\n",
    "else:\n",
    "    print(f\"Directory {directory} already exists.\")"
   ]
  },
  {
   "cell_type": "markdown",
   "id": "e6a480cd",
   "metadata": {},
   "source": [
    "**Installing CLASS**\n",
    "\n",
    "Open Terminal:\n",
    "\n",
    "$ cd class_public\n",
    "\n",
    "$ make -j // PYTHON=python3 make -j\n",
    "\n",
    "$ cd python\n",
    "\n",
    "$ python setup.py build\n",
    "\n",
    "$ python setup.py install --user"
   ]
  },
  {
   "cell_type": "code",
   "execution_count": 14,
   "id": "3eb91af9",
   "metadata": {},
   "outputs": [
    {
     "name": "stdout",
     "output_type": "stream",
     "text": [
      "cd python; export CC=gcc; output=$(python3 -m pip install . 2>&1); \\\n",
      "    echo \"$output\"; \\\n",
      "    if echo \"$output\" | grep -q \"ERROR: Cannot uninstall\"; then \\\n",
      "        site_packages=$(python3 -c \"import distutils.sysconfig; print(distutils.sysconfig.get_python_lib())\" || python3 -c \"import site; print(site.getsitepackages()[0])\") && \\\n",
      "\techo \"Cleaning up previous installation in: $site_packages\" && \\\n",
      "        rm -rf $site_packages/classy* && \\\n",
      "        python3 -m pip install .; \\\n",
      "    fi\n",
      "Processing /home/purba/Downloads/icts_iagrg3_school_2024/Florian/Tutorials/class_public/python\n",
      "  Preparing metadata (setup.py): started\n",
      "  Preparing metadata (setup.py): finished with status 'done'\n",
      "Building wheels for collected packages: classy\n",
      "  Building wheel for classy (setup.py): started\n",
      "  Building wheel for classy (setup.py): finished with status 'done'\n",
      "  Created wheel for classy: filename=classy-3.2.5-cp38-cp38-linux_x86_64.whl size=5844623 sha256=8dcf06328fb8bffee8b4f2462eec2b25ca0845a6aeab6c74e3af0d9cc17fb505\n",
      "  Stored in directory: /tmp/pip-ephem-wheel-cache-0d0kgibp/wheels/1b/b4/c1/0eb378d3aeeb9dd51a676b0078048a0361363dab34ac909ef5\n",
      "Successfully built classy\n",
      "Installing collected packages: classy\n",
      "  Attempting uninstall: classy\n",
      "    Found existing installation: classy 3.2.5\n",
      "    Uninstalling classy-3.2.5:\n",
      "      Successfully uninstalled classy-3.2.5\n",
      "Successfully installed classy-3.2.5\n",
      "running build\n",
      "running build_ext\n",
      "skipping '/home/purba/Downloads/icts_iagrg3_school_2024/Florian/Tutorials/class_public/python/../python/classy.cpp' Cython extension (up-to-date)\n",
      "running install\n",
      "/home/purba/.local/lib/python3.8/site-packages/setuptools/command/install.py:34: SetuptoolsDeprecationWarning: setup.py install is deprecated. Use build and pip and other standards-based tools.\n",
      "  warnings.warn(\n",
      "/home/purba/.local/lib/python3.8/site-packages/setuptools/command/easy_install.py:144: EasyInstallDeprecationWarning: easy_install command is deprecated. Use build and pip and other standards-based tools.\n",
      "  warnings.warn(\n",
      "/home/purba/.local/lib/python3.8/site-packages/pkg_resources/__init__.py:123: PkgResourcesDeprecationWarning: W-CLASS-v3.2.0 is an invalid version and will not be supported in a future release\n",
      "  warnings.warn(\n",
      "running bdist_egg\n",
      "running egg_info\n",
      "writing classy.egg-info/PKG-INFO\n",
      "writing dependency_links to classy.egg-info/dependency_links.txt\n",
      "writing top-level names to classy.egg-info/top_level.txt\n",
      "reading manifest file 'classy.egg-info/SOURCES.txt'\n",
      "writing manifest file 'classy.egg-info/SOURCES.txt'\n",
      "installing library code to build/bdist.linux-x86_64/egg\n",
      "running install_lib\n",
      "running build_ext\n",
      "skipping '/home/purba/Downloads/icts_iagrg3_school_2024/Florian/Tutorials/class_public/python/../python/classy.cpp' Cython extension (up-to-date)\n",
      "creating build/bdist.linux-x86_64/egg\n",
      "copying build/lib.linux-x86_64-cpython-38/classy.cpython-38-x86_64-linux-gnu.so -> build/bdist.linux-x86_64/egg\n",
      "creating stub loader for classy.cpython-38-x86_64-linux-gnu.so\n",
      "byte-compiling build/bdist.linux-x86_64/egg/classy.py to classy.cpython-38.pyc\n",
      "creating build/bdist.linux-x86_64/egg/EGG-INFO\n",
      "copying classy.egg-info/PKG-INFO -> build/bdist.linux-x86_64/egg/EGG-INFO\n",
      "copying classy.egg-info/SOURCES.txt -> build/bdist.linux-x86_64/egg/EGG-INFO\n",
      "copying classy.egg-info/dependency_links.txt -> build/bdist.linux-x86_64/egg/EGG-INFO\n",
      "copying classy.egg-info/top_level.txt -> build/bdist.linux-x86_64/egg/EGG-INFO\n",
      "writing build/bdist.linux-x86_64/egg/EGG-INFO/native_libs.txt\n",
      "zip_safe flag not set; analyzing archive contents...\n",
      "__pycache__.classy.cpython-38: module references __file__\n",
      "creating 'dist/classy-3.2.5-py3.8-linux-x86_64.egg' and adding 'build/bdist.linux-x86_64/egg' to it\n",
      "removing 'build/bdist.linux-x86_64/egg' (and everything under it)\n",
      "Processing classy-3.2.5-py3.8-linux-x86_64.egg\n",
      "creating /home/purba/.local/lib/python3.8/site-packages/classy-3.2.5-py3.8-linux-x86_64.egg\n",
      "Extracting classy-3.2.5-py3.8-linux-x86_64.egg to /home/purba/.local/lib/python3.8/site-packages\n",
      "Adding classy 3.2.5 to easy-install.pth file\n",
      "\n",
      "Installed /home/purba/.local/lib/python3.8/site-packages/classy-3.2.5-py3.8-linux-x86_64.egg\n",
      "Processing dependencies for classy==3.2.5\n",
      "Finished processing dependencies for classy==3.2.5\n"
     ]
    }
   ],
   "source": [
    "workdir = os.getcwd()\n",
    "\n",
    "os.chdir(\"class_public\")\n",
    "#!make -j\n",
    "!PYTHON=python3 make -j\n",
    "\n",
    "os.chdir(\"python\")\n",
    "!python3 setup.py build\n",
    "#!python3 python/setup.py install\n",
    "!python3 setup.py install --user\n",
    "os.chdir(workdir)"
   ]
  },
  {
   "cell_type": "code",
   "execution_count": 15,
   "id": "3f3ce1ce",
   "metadata": {},
   "outputs": [
    {
     "data": {
      "text/plain": [
       "'v3.2.5'"
      ]
     },
     "execution_count": 15,
     "metadata": {},
     "output_type": "execute_result"
    }
   ],
   "source": [
    "import classy\n",
    "classy.__version__"
   ]
  },
  {
   "cell_type": "code",
   "execution_count": 16,
   "id": "a19ae8a1",
   "metadata": {},
   "outputs": [],
   "source": [
    "from classy import Class"
   ]
  },
  {
   "cell_type": "code",
   "execution_count": 17,
   "id": "5d522377",
   "metadata": {},
   "outputs": [],
   "source": [
    "LCDM = Class()\n",
    "LCDM.set({'Omega_cdm':0.25,'Omega_b':0.05,'H0':67.4})\n",
    "LCDM.compute()"
   ]
  },
  {
   "cell_type": "code",
   "execution_count": 18,
   "id": "a950a4a8",
   "metadata": {},
   "outputs": [],
   "source": [
    "H0_lcdm = LCDM.Hubble(0)*c\n",
    "Hz_lcdm = []\n",
    "\n",
    "for i in range(len(zz)):\n",
    "    Hz_lcdm.append(LCDM.Hubble(zz[i])*c)"
   ]
  },
  {
   "cell_type": "code",
   "execution_count": 19,
   "id": "f42d1dc2",
   "metadata": {},
   "outputs": [
    {
     "data": {
      "image/png": "[encoded data removed]",
      "text/plain": [
       "<Figure size 432x288 with 1 Axes>"
      ]
     },
     "metadata": {
      "needs_background": "light"
     },
     "output_type": "display_data"
    }
   ],
   "source": [
    "plt.xlim(0., 10.)\n",
    "plt.xlabel(\"z\")\n",
    "plt.ylabel(\"$E(z)$\")\n",
    "plt.plot(zz, np.array(Hz_lcdm)/H0_lcdm)\n",
    "\n",
    "plt.show()"
   ]
  },
  {
   "cell_type": "code",
   "execution_count": 20,
   "id": "5a241c1f",
   "metadata": {},
   "outputs": [],
   "source": [
    "zz = np.linspace(0, 2.5, 101)\n",
    "dLz_lcdm = []\n",
    "for i in range(len(zz)):\n",
    "    dLz_lcdm.append(LCDM.luminosity_distance(zz[i]) * H0 / c)"
   ]
  },
  {
   "cell_type": "code",
   "execution_count": 21,
   "id": "fb7dba45",
   "metadata": {},
   "outputs": [
    {
     "data": {
      "image/png": "[encoded data removed]",
      "text/plain": [
       "<Figure size 432x288 with 1 Axes>"
      ]
     },
     "metadata": {
      "needs_background": "light"
     },
     "output_type": "display_data"
    }
   ],
   "source": [
    "plt.xlim(0., 2.5)\n",
    "plt.xlabel(\"z\")\n",
    "plt.ylabel(\"$D_L(z)$\")\n",
    "plt.plot(zz, np.array(dLz_lcdm))\n",
    "\n",
    "plt.show()"
   ]
  },
  {
   "cell_type": "markdown",
   "id": "298f78c3",
   "metadata": {},
   "source": [
    "**Similarly, plot the evolution of $H(z)$, $d_L(z)$, $d_M(z)$ and $d_A(z)$. Compare them with the previous LCDM module. Do you notice any differences ?**"
   ]
  },
  {
   "cell_type": "code",
   "execution_count": null,
   "id": "8dfbd727",
   "metadata": {},
   "outputs": [],
   "source": []
  },
  {
   "cell_type": "code",
   "execution_count": null,
   "id": "9b141fc1",
   "metadata": {},
   "outputs": [],
   "source": []
  },
  {
   "cell_type": "markdown",
   "id": "342d62a7",
   "metadata": {},
   "source": [
    "**Do the same exercise for CPL dark energy parametrization:**\n",
    "\n",
    "The CPL DE model is already defined in CLASS. You need to use the following flag: \n",
    "\n",
    "'Omega_Lambda':0\n",
    "\n",
    "'fluid_equation_of_state':'CLP', \n",
    "\n",
    "'w0_fld':-0.827,\n",
    "\n",
    "'wa_fld':-0.75"
   ]
  },
  {
   "cell_type": "code",
   "execution_count": 22,
   "id": "65017fc1",
   "metadata": {},
   "outputs": [],
   "source": [
    "CPL = Class()\n",
    "CPL.set({'Omega_Lambda':0.,'Omega_cdm':0.25,'Omega_b':0.05,'H0':67.4,'w0_fld':-0.827,'wa_fld':-0.75,'fluid_equation_of_state':'CLP'})\n",
    "CPL.compute()"
   ]
  },
  {
   "cell_type": "code",
   "execution_count": null,
   "id": "95a7a47c",
   "metadata": {},
   "outputs": [],
   "source": []
  },
  {
   "cell_type": "code",
   "execution_count": null,
   "id": "4097433e",
   "metadata": {},
   "outputs": [],
   "source": []
  },
  {
   "cell_type": "markdown",
   "id": "7074852e",
   "metadata": {},
   "source": [
    "**1. Compute age of the Universe**"
   ]
  },
  {
   "cell_type": "code",
   "execution_count": null,
   "id": "8df9b953",
   "metadata": {},
   "outputs": [],
   "source": []
  },
  {
   "cell_type": "code",
   "execution_count": null,
   "id": "0448b078",
   "metadata": {},
   "outputs": [],
   "source": []
  },
  {
   "cell_type": "markdown",
   "id": "b6bb59e1",
   "metadata": {},
   "source": [
    "**2. Get angular diameter distance variation as a function of $\\Omega_m$**"
   ]
  },
  {
   "cell_type": "code",
   "execution_count": null,
   "id": "9310e7ff",
   "metadata": {},
   "outputs": [],
   "source": []
  },
  {
   "cell_type": "code",
   "execution_count": null,
   "id": "c8450882",
   "metadata": {},
   "outputs": [],
   "source": []
  },
  {
   "cell_type": "markdown",
   "id": "5813857e",
   "metadata": {},
   "source": [
    "**3. Calculate the deceleration of the Universe given baseline cosmology with Planck 2018 best fits**\n",
    "\n",
    "$q(z) = \\frac{\\ddot{a}}{aH^2}$"
   ]
  },
  {
   "cell_type": "code",
   "execution_count": null,
   "id": "6839d4d2",
   "metadata": {},
   "outputs": [],
   "source": []
  },
  {
   "cell_type": "code",
   "execution_count": null,
   "id": "81dea9fa",
   "metadata": {},
   "outputs": [],
   "source": []
  },
  {
   "cell_type": "code",
   "execution_count": null,
   "id": "15bbfe0e",
   "metadata": {},
   "outputs": [],
   "source": []
  },
  {
   "cell_type": "code",
   "execution_count": null,
   "id": "fc0a2c99",
   "metadata": {},
   "outputs": [],
   "source": []
  },
  {
   "cell_type": "markdown",
   "id": "5e18e80e",
   "metadata": {},
   "source": [
    "# Markov Chain Monte Carlo"
   ]
  },
  {
   "cell_type": "code",
   "execution_count": 23,
   "id": "ea98f21e",
   "metadata": {},
   "outputs": [
    {
     "name": "stdout",
     "output_type": "stream",
     "text": [
      "OMP_NUM_THREADS set to: 8\n"
     ]
    }
   ],
   "source": [
    "ncpu = cpu_count()\n",
    "#print(f\"{ncpu} CPUs available\")\n",
    "\n",
    "os.environ[\"OMP_NUM_THREADS\"] = str(min(32, ncpu))\n",
    "\n",
    "print(f\"OMP_NUM_THREADS set to: {os.environ['OMP_NUM_THREADS']}\")"
   ]
  },
  {
   "cell_type": "code",
   "execution_count": 24,
   "id": "0ff1b79a",
   "metadata": {},
   "outputs": [],
   "source": [
    "def chisqr_pan(omega_m, H0, M):\n",
    "    mu = m_pan - M\n",
    "    cosmo = lcdm(omega_m, H0, rd)\n",
    "    x = np.vectorize(cosmo.dLz) \n",
    "    mod = 5.*np.log10(x(z_cmb_pan))+25.\n",
    "    delta = mu - mod\n",
    "    residuals = la.solve_triangular(cov_pan, delta,lower=True,check_finite=False)\n",
    "    return (residuals**2).sum() "
   ]
  },
  {
   "cell_type": "code",
   "execution_count": 25,
   "id": "4a77f1e8",
   "metadata": {},
   "outputs": [],
   "source": [
    "def chi_M_prior(M):\n",
    "    \"\"\"Gaussian prior on supernova absolute magnitude M.\"\"\"\n",
    "    M_prior = -19.2435 \n",
    "    sigM_prior = 0.0373\n",
    "    return np.sum((M - M_prior)**2 / sigM_prior**2)"
   ]
  },
  {
   "cell_type": "code",
   "execution_count": 26,
   "id": "7053b826",
   "metadata": {},
   "outputs": [],
   "source": [
    "def chi_H0_prior(M):\n",
    "    \"\"\"Gaussian prior on H0.\"\"\"\n",
    "\n",
    "    return "
   ]
  },
  {
   "cell_type": "code",
   "execution_count": 27,
   "id": "e093ccc7",
   "metadata": {},
   "outputs": [],
   "source": [
    "def chisqr_tot(theta):\n",
    "    omega_m, H0, M = theta\n",
    "    return chisqr_pan(omega_m, H0, M) #+ chi_M_prior(M)"
   ]
  },
  {
   "cell_type": "code",
   "execution_count": 28,
   "id": "c52dcc4e",
   "metadata": {},
   "outputs": [],
   "source": [
    "def lnlike(theta):\n",
    "    omega_m, H0, M = theta\n",
    "    return -0.5*chisqr_tot(theta)\n",
    "\n",
    "def lnprior(theta):\n",
    "    omega_m, H0, M = theta\n",
    "    if 0. < omega_m < 1. and 50. < H0 < 110 and -21. < M < -18.:\n",
    "        return 0.0\n",
    "    return -np.inf\n",
    "\n",
    "def lnprob(theta):\n",
    "    omega_m, H0, M = theta\n",
    "    lp = lnprior(theta)\n",
    "    ll = lnlike(theta)\n",
    "    if not np.isfinite(lp):\n",
    "        return -np.inf\n",
    "    elif np.isnan(ll):\n",
    "        return -np.inf\n",
    "    elif np.iscomplex(ll):\n",
    "        return -np.inf\n",
    "    else:\n",
    "        return lp + ll"
   ]
  },
  {
   "cell_type": "code",
   "execution_count": 29,
   "id": "d7e03ebf",
   "metadata": {},
   "outputs": [],
   "source": [
    "# Find the maximum likelihood value.\n",
    "\n",
    "x0 = [0.3, 70., -19.4]\n",
    "p0 = np.array(x0)\n",
    "#print(chisqr_tot(x0))"
   ]
  },
  {
   "cell_type": "code",
   "execution_count": 30,
   "id": "0a49df1c",
   "metadata": {},
   "outputs": [
    {
     "name": "stdout",
     "output_type": "stream",
     "text": [
      "Maximum likelihood result:\n",
      "#    omega_m = 0.3174533088897638(truth: 0.3)\n",
      "#    H0      = 69.70084693956933 (truth: 0.7)\n",
      "#    M       = -19.353499689528142 (truth: -19.4)\n"
     ]
    }
   ],
   "source": [
    "result = opt.minimize(chisqr_tot, x0, bounds=[[0.,1.],[60., 90.],[-21, -18.]])\n",
    "omega_m_ml, H0_ml, M_ml = result['x']\n",
    "\n",
    "print(\"\"\"Maximum likelihood result:\n",
    "#    omega_m = {0}(truth: {1})\n",
    "#    H0      = {2} (truth: {3})\n",
    "#    M       = {4} (truth: {5})\"\"\".format(omega_m_ml, 0.3, H0_ml, 0.7, M_ml, -19.4))"
   ]
  },
  {
   "cell_type": "markdown",
   "id": "08559eb1",
   "metadata": {},
   "source": [
    "# Set up the sampler.\n",
    "ndim, nwalkers = 3, 10\n",
    "\n",
    "npoints = 2000\n",
    "burnin = 500\n",
    "\n",
    "pos0 = np.array(x0)\n",
    "pos = [p0 + 1e-4*np.random.randn(ndim) for i in range(nwalkers)]\n",
    "\n",
    "pool = multiprocessing.Pool()\n",
    "sampler = emcee.EnsembleSampler(nwalkers, ndim, lnprob, pool=pool)\n",
    "\n",
    "pos, prob, state  = sampler.run_mcmc(pos, burnin, progress=True)\n",
    "sampler.reset()\n",
    "    \n",
    "start = time.time()\n",
    "pos, prob, state  = sampler.run_mcmc(pos, npoints, progress=True)\n",
    "end = time.time()\n",
    "multi_time = end - start\n",
    "\n",
    "#print(\"Multiprocessing took {0:.1f} seconds\".format(multi_time))\n",
    "\n",
    "samples = sampler.flatchain\n",
    "print(samples.shape)\n",
    "\n",
    "af = sampler.acceptance_fraction\n",
    "print(\" Mean Acceptance fraction : \", af.mean())\n",
    "\n",
    "f_out = open('lcdm_sn.txt', 'w')\n",
    "np.savetxt('lcdm_sn.txt', samples)\n",
    "\n",
    "#f_out = open('lcdm_sn_Mprior.txt', 'w')\n",
    "#np.savetxt('lcdm_sn_Mprior.txt', samples)\n",
    "f_out.close()"
   ]
  },
  {
   "cell_type": "code",
   "execution_count": 31,
   "id": "a3b96ec0",
   "metadata": {},
   "outputs": [],
   "source": [
    "samples = np.loadtxt(\"lcdm_sn.txt\")\n",
    "#samples = np.loadtxt(\"lcdm_sn_Mprior.txt\")"
   ]
  },
  {
   "cell_type": "code",
   "execution_count": 32,
   "id": "57e732fa",
   "metadata": {},
   "outputs": [
    {
     "data": {
      "text/latex": [
       "$\\displaystyle \\mathrm{\\Omega_m} = 0.317_{-0.003}^{+0.003}$"
      ],
      "text/plain": [
       "<IPython.core.display.Math object>"
      ]
     },
     "metadata": {},
     "output_type": "display_data"
    },
    {
     "data": {
      "text/latex": [
       "$\\displaystyle \\mathrm{H_0} = 76.814_{-8.866}^{+6.363}$"
      ],
      "text/plain": [
       "<IPython.core.display.Math object>"
      ]
     },
     "metadata": {},
     "output_type": "display_data"
    },
    {
     "data": {
      "text/latex": [
       "$\\displaystyle \\mathrm{M} = -19.143_{-0.267}^{+0.174}$"
      ],
      "text/plain": [
       "<IPython.core.display.Math object>"
      ]
     },
     "metadata": {},
     "output_type": "display_data"
    }
   ],
   "source": [
    "from IPython.display import display, Math\n",
    "\n",
    "names = [r'\\Omega_m', r'H_0', r'M']\n",
    "ndim = len(names)\n",
    "\n",
    "for i in range(ndim):\n",
    "    mcmc = np.percentile(samples[:, i], [16, 50, 84])\n",
    "    q = np.diff(mcmc)\n",
    "    txt = \"\\mathrm{{{3}}} = {0:.3f}_{{-{1:.3f}}}^{{+{2:.3f}}}\"\n",
    "    txt = txt.format(mcmc[1], q[0], q[1], names[i])\n",
    "    display(Math(txt))"
   ]
  },
  {
   "cell_type": "code",
   "execution_count": 33,
   "id": "7a268949",
   "metadata": {},
   "outputs": [
    {
     "data": {
      "image/png": "[encoded data removed]",
      "text/plain": [
       "<Figure size 547.2x547.2 with 9 Axes>"
      ]
     },
     "metadata": {
      "needs_background": "light"
     },
     "output_type": "display_data"
    }
   ],
   "source": [
    "# Make the triangle plot.\n",
    "\n",
    "fig = corner.corner(samples, labels=[r'$\\Omega_m$', r'$H_0$', r'$M$'], quantiles=[0.16,0.5,0.84], show_titles=True, smooth=2, smooth1d=2, plot_datapoints=False, bins=20, color='midnightblue')\n",
    "#fig.savefig(\"triangle_lcdm.pdf\")\n",
    "plt.show()"
   ]
  },
  {
   "cell_type": "markdown",
   "id": "04dea50b",
   "metadata": {},
   "source": [
    "**You can also use GetDist for plotting**\n",
    "\n",
    "https://getdist.readthedocs.io/en/latest/plot_gallery.html"
   ]
  },
  {
   "cell_type": "markdown",
   "id": "3de8a5ee",
   "metadata": {},
   "source": [
    "**1. Do the exercise with the SH0ES $M_B$ or $H_0$ prior**"
   ]
  },
  {
   "cell_type": "code",
   "execution_count": null,
   "id": "f0665a45",
   "metadata": {},
   "outputs": [],
   "source": []
  },
  {
   "cell_type": "markdown",
   "id": "b082e0fd",
   "metadata": {},
   "source": [
    "**2. Plot the evolution for $H(z)$, $d_L(z)$ and $q(z)$**"
   ]
  },
  {
   "cell_type": "code",
   "execution_count": null,
   "id": "df5d20b5",
   "metadata": {},
   "outputs": [],
   "source": []
  },
  {
   "cell_type": "markdown",
   "id": "84b65f52",
   "metadata": {},
   "source": [
    "**3. Compute the Gaussian Tension metric between Planck $H_0$ and SH0ES**\n",
    "\n",
    "The Gaussian Tension metric is defined as:\n",
    "\n",
    "$T = \\frac{\\vert{H_0^{\\rm SH0ES} - H_0^{\\rm Planck}}\\vert}{\\sqrt{{{\\sigma_{H_0}^{\\rm SH0ES}}^2 + {\\sigma_{H_0}^{\\rm Planck}}}^2}}$"
   ]
  },
  {
   "cell_type": "code",
   "execution_count": null,
   "id": "561a4e36",
   "metadata": {},
   "outputs": [],
   "source": []
  },
  {
   "cell_type": "markdown",
   "id": "e1874f7a",
   "metadata": {},
   "source": [
    "**4. What happens in the presence of curvature? Constrain $\\Omega_k - \\Omega_m$**"
   ]
  },
  {
   "cell_type": "code",
   "execution_count": null,
   "id": "972c93a4",
   "metadata": {},
   "outputs": [],
   "source": []
  },
  {
   "cell_type": "markdown",
   "id": "c26ab7d8",
   "metadata": {},
   "source": [
    "**5. Constraints on the dark energy EoS parameters when assuming CPL parameterization?**"
   ]
  },
  {
   "cell_type": "code",
   "execution_count": null,
   "id": "cf23f8d2",
   "metadata": {},
   "outputs": [],
   "source": []
  },
  {
   "cell_type": "markdown",
   "id": "9b1e47db",
   "metadata": {},
   "source": [
    "# **Try out this exercise with the DESI BAO data**"
   ]
  },
  {
   "cell_type": "code",
   "execution_count": null,
   "id": "caa7b4ad",
   "metadata": {},
   "outputs": [],
   "source": []
  }
 ],
 "metadata": {
  "kernelspec": {
   "display_name": "Python 3",
   "language": "python",
   "name": "python3"
  },
  "language_info": {
   "codemirror_mode": {
    "name": "ipython",
    "version": 3
   },
   "file_extension": ".py",
   "mimetype": "text/x-python",
   "name": "python",
   "nbconvert_exporter": "python",
   "pygments_lexer": "ipython3",
   "version": "3.8.10"
  }
 },
 "nbformat": 4,
 "nbformat_minor": 5
}
