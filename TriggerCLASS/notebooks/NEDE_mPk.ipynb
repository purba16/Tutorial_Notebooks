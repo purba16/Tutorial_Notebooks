{
 "cells": [
  {
   "cell_type": "markdown",
   "metadata": {},
   "source": []
  },
  {
   "cell_type": "markdown",
   "metadata": {},
   "source": []
  },
  {
   "cell_type": "code",
   "execution_count": 1,
   "metadata": {
    "Collapsed": "false"
   },
   "outputs": [],
   "source": [
    "from classy import Class\n",
    "import numpy as np\n",
    "import matplotlib.pyplot as plt\n",
    "%matplotlib inline\n",
    "from matplotlib import rc\n",
    "import matplotlib.pyplot as plt\n",
    "from matplotlib import rc\n",
    "rc('font',**{'family':'sans-serif','sans-serif':['Helvetica']})\n",
    "## for Palatino and other serif fonts use:\n",
    "#rc('font',**{'family':'serif','serif':['Palatino']})\n",
    "rc('text', usetex=True)\n",
    "\n",
    "\n",
    "fs=16 #fontsize\n",
    "\n",
    "#Colors + Labels\n",
    "\n",
    "color_sequence = ['#1f77b4', '#ff7f0e', '#2ca02c', '#d62728',\n",
    "              '#9467bd', '#8c564b', '#e377c2', '#7f7f7f',\n",
    "              '#bcbd22', '#17becf']\n",
    "              \n",
    "\n",
    "cNEDE=color_sequence[3]\n",
    "cOEDE=color_sequence[4]\n",
    "cADE=color_sequence[1]\n",
    "cDR=color_sequence[0]\n",
    "cLCDM=color_sequence[2]\n",
    "cSHOES='gray'"
   ]
  },
  {
   "cell_type": "code",
   "execution_count": 32,
   "metadata": {
    "Collapsed": "false"
   },
   "outputs": [],
   "source": [
    "#          omega_b, omega_cdm, h,  ln10^{10}A_s,    n_s,tau_reio,frac_EDE,log10z, 3w\n",
    "EDE_params=[2.279172e-02,1.283038e-01,7.053332e-01,3.054141e+00,9.847891e-01,5.417595e-02,1.065318e-01,3.675834e+00,2.061436e+00]\n",
    "EDE2_params=[2.307324e-02,1.180862882e-01,6.818145238e-01,3.092596e+00,9.924328e-01,6.654461e-02,1.653329e-01,3.636614e+00,2.045009e+00,4.532702e-03]\n",
    "\n",
    "# omega_b,omega_cdm,h,ln10^{10}A_s,n_s,tau_reio, \n",
    "LCDM_params=[2.246104358e-02,1.183155e-01,6.816150e-01,3.053159e+00,9.670401334e-01,6.018299300e-02]\n",
    "#baseline+S8\n",
    "\n",
    " \n",
    "\n",
    "\n",
    "\n",
    "N_ur = 2.0328\n",
    "N_ncdm = 1\n",
    "m_ncdm = 0.06\n",
    "T_ncdm = 0.71611"
   ]
  },
  {
   "cell_type": "code",
   "execution_count": 42,
   "metadata": {
    "Collapsed": "false"
   },
   "outputs": [],
   "source": [
    "LCDM = Class()\n",
    "LCDM.set({'output':'tCl,pCl,lCl','lensing':'yes',\n",
    "          'omega_b':LCDM_params[0],\n",
    "          'omega_cdm':LCDM_params[1],\n",
    "          'h':LCDM_params[2],\n",
    "          'ln10^{10}A_s':LCDM_params[3],\n",
    "          'n_s':LCDM_params[4],\n",
    "          'tau_reio':LCDM_params[5],\n",
    "          'k_output_values':'0.00001,0.001,0.01,0.04,0.5',\n",
    "          'output':'tCl,pCl,lCl,mPk',\n",
    "          'N_ur':N_ur, 'N_ncdm':N_ncdm, 'm_ncdm':m_ncdm, 'T_ncdm':T_ncdm,\n",
    "          'P_k_max_1/Mpc':3.0,'z_max_pk': 3.,'l_switch_limber':9\n",
    "          })\n",
    "LCDM.compute()\n",
    "LCDM_bg = LCDM.get_background()\n",
    "LCDM_pert = LCDM.get_perturbations()\n"
   ]
  },
  {
   "cell_type": "code",
   "execution_count": 47,
   "metadata": {
    "Collapsed": "false"
   },
   "outputs": [],
   "source": [
    "NEDE = Class()\n",
    "\n",
    "\n",
    "NEDE.set({\n",
    "    'sub_dom_cond':1.e-6,\n",
    "    'back_integration_stepsize':5.e-3,\n",
    "    'decay_res_enhancement':100,\n",
    "    'Junction_tag':1,\n",
    "    'three_eos_NEDE':EDE2_params[8],\n",
    "    'three_cvis2_NEDE':0,\n",
    "    'f_NEDE': EDE2_params[6],\n",
    "    'z_decay_NEDE' : 10**EDE2_params[7],\n",
    "    'omega_b':EDE2_params[0],\n",
    "    'omega_cdm':EDE2_params[1],\n",
    "    'h':EDE2_params[2],\n",
    "    'ln10^{10}A_s':EDE2_params[3],\n",
    "    'n_s':EDE2_params[4],\n",
    "    'tau_reio':EDE2_params[5],\n",
    "    'H_over_m_NEDE':0.2,\n",
    "    'k_output_values':'0.00001,0.001,0.01,0.1,0.5',\n",
    "    'start_small_k_at_tau_c_over_tau_h':0.0000001,\n",
    "    'output':'tCl,pCl,lCl,mPk','lensing':'yes','background_verbose':'4','perturbations_verbose':'2',\n",
    "    'NEDE_trigger_fluid_H_m':0.01,\n",
    "    'trigger_resolution':0.05,\n",
    "    'P_k_max_1/Mpc':3.0,'z_max_pk': 3.,'l_switch_limber':9,\n",
    "    'Omega0_NEDE_trigger_DM':EDE2_params[9],\n",
    "    'background_verbose':0,\n",
    "    'perturbations_verbose':0\n",
    "         }\n",
    "         )\n",
    "         \n",
    "\n",
    "NEDE.compute()\n",
    "\n",
    "\n",
    "\n",
    "\n",
    "\n",
    "\n"
   ]
  },
  {
   "cell_type": "code",
   "execution_count": null,
   "metadata": {},
   "outputs": [],
   "source": [
    "\n",
    "\n",
    "\n"
   ]
  },
  {
   "cell_type": "code",
   "execution_count": null,
   "metadata": {},
   "outputs": [],
   "source": [
    "\n"
   ]
  },
  {
   "cell_type": "code",
   "execution_count": null,
   "metadata": {},
   "outputs": [],
   "source": []
  },
  {
   "cell_type": "code",
   "execution_count": null,
   "metadata": {},
   "outputs": [],
   "source": []
  },
  {
   "cell_type": "code",
   "execution_count": 36,
   "metadata": {},
   "outputs": [
    {
     "name": "stdout",
     "output_type": "stream",
     "text": [
      "4331.225357672768\n"
     ]
    }
   ],
   "source": [
    "\n",
    "\n",
    "NEDE_derived=NEDE.get_current_derived_parameters(['z_decay','z_rec','H0','sigma8'])\n",
    "NEDE_bg = NEDE.get_background()\n",
    "#NEDE2_bg = NEDE2.get_background()\n",
    "\n",
    "\n",
    "NEDE_z_decay=NEDE_derived['z_decay']\n",
    "NEDE_z_rec=NEDE_derived['sigma8']\n",
    "NEDE_sigma8=NEDE_derived['z_decay']\n",
    "NEDE_a_decay=1/(NEDE_z_decay+1)\n",
    "NEDE_a_rec=1/(NEDE_z_rec+1)\n",
    "NEDE_Dstar=NEDE.angular_distance(NEDE_z_rec)*(NEDE_z_rec+1)\n",
    "\n",
    "\n",
    "\n",
    "\n",
    "#print(EDE.Hubble(EDE_z_decay) * EDE_a_decay)\n",
    "#print(EDE.Hubble(EDE_z_rec) * EDE_a_rec)\n",
    "#print(EDE_a_decay)\n",
    "\n",
    "#EDE.Neff()\n",
    "\n",
    "\n",
    "#print(\"Neff EDE: \" + str(EDE.Neff()))\n",
    "#print(\"Neff DR: \" + str(DR.Neff()))\n",
    "#print(\"Neff LCDM: \" + str(LCDM.Neff()))\n",
    "\n",
    "a_NEDE=1/(NEDE_bg['z']+1)\n",
    "H_NEDE=NEDE_bg['H [1/Mpc]']\n",
    "H0_NEDE=H_NEDE[-1]\n",
    "\n",
    "#a_NEDE2=1/(NEDE2_bg['z']+1)\n",
    "#H_NEDE2=NEDE2_bg['H [1/Mpc]']\n",
    "#H0_NEDE2=H_NEDE2[-1]\n",
    "\n",
    "\n",
    "\n",
    "\n",
    "NEDE_pert = NEDE.get_perturbations()\n",
    "#NEDE_pert2 = NEDE2.get_perturbations()\n",
    "#EDE_pert['scalar'][1].keys()\n",
    "#print(EDE_bg.keys())\n",
    "\n",
    "\n",
    "\n",
    "\n",
    "#Calculate the l of a mode that crosses horizon at z\n",
    "\n",
    "\n",
    "#test=np.interp(1./(147.1+1), a, EDE_bg['H [1/Mpc]'])\n",
    "\n",
    "#print(EDE_bg['z'][-5000],EDE_bg['H [1/Mpc]'][-5000],test)\n",
    "\n",
    "#print(conf_time[-1],a[-1],2/H[-1],H[-1],EDE.angular_distance(1100)*1100)\n",
    "\n",
    "\n",
    "def l_z(zvar):\n",
    "    #z_rec=EDE.get_current_derived_parameters(['z_rec'])['z_rec']\n",
    "    #Dstar=EDE.angular_distance(EDE_z_rec)*(EDE_z_rec+1)\n",
    "    H_z=np.interp(1./(zvar+1), a_EDE, EDE_bg['H [1/Mpc]'])\n",
    "    return H_z/(1+zvar)*EDE_Dstar\n",
    "\n",
    "\n",
    "def l_k(kvar):\n",
    "    return EDE_Dstar*kvar\n",
    "\n",
    "\n",
    "\n",
    "\n",
    "def rs_z(zvar,bg):\n",
    "    H_arr=bg['H [1/Mpc]']\n",
    "    z_arr=bg['z']\n",
    "    rs_arr=bg['comov.snd.hrz.']\n",
    "    pos_z=np.argmin(np.abs(z_arr-zvar))\n",
    "    rs_EDE=-np.trapz(1/H_arr[0:pos_z]*1/np.sqrt(3),x=z_arr[0:pos_z])\n",
    "    return (rs_EDE,rs_arr[pos_z])\n",
    "    \n",
    "    \n",
    "#print(l_z(1000),1000,EDE_Dstar,l_k(0.015),l_z(EDE_z_decay),1/rs_z(EDE_z_decay,EDE_bg)[1],l_k(0.0239))\n",
    "print(NEDE_sigma8)"
   ]
  },
  {
   "cell_type": "code",
   "execution_count": null,
   "metadata": {
    "Collapsed": "false"
   },
   "outputs": [],
   "source": [
    "\n",
    "\n",
    "\n"
   ]
  },
  {
   "cell_type": "code",
   "execution_count": 23,
   "metadata": {
    "Collapsed": "false"
   },
   "outputs": [
    {
     "data": {
      "image/png": "[encoded data removed]",
      "text/plain": [
       "<Figure size 864x1728 with 1 Axes>"
      ]
     },
     "metadata": {
      "needs_background": "light"
     },
     "output_type": "display_data"
    }
   ],
   "source": [
    "fs=14\n",
    "rho_rad=np.zeros(a_NEDE.size)\n",
    "rho_EDE=NEDE_bg['(.)rho_NEDE']\n",
    "\n",
    "\n",
    "\n",
    "decay_pos=np.argmin(np.abs(NEDE_a_decay-a_NEDE))\n",
    "#rho_rad[decay_pos:]=rho_EDE[decay_pos:]\n",
    "rho_rad=rho_rad+NEDE_bg['(.)rho_g']+NEDE_bg['(.)rho_ur']\n",
    "\n",
    "\n",
    "plt.rcParams['figure.figsize'] = [12, 24]\n",
    "ax1 = plt.subplot(311)\n",
    "plt.loglog(a_NEDE, (NEDE_bg['(.)rho_cdm']+NEDE_bg['(.)rho_b'])/H0_NEDE**2,label=r'$\\rho_m$',c=color_sequence[0])\n",
    "plt.loglog(a_NEDE, rho_EDE/H0_NEDE**2,label=r'$\\rho_{\\rm NEDE}$',c=color_sequence[3])       \n",
    "plt.loglog(a_NEDE, rho_rad/H0_NEDE**2,label=r'$\\rho_{\\rm rad}$',c=color_sequence[1])\n",
    "plt.loglog(a_NEDE, NEDE_bg['(.)rho_trigger']/H0_NEDE**2,label=r'$\\rho_{\\phi}$',c=color_sequence[4])\n",
    "plt.loglog(a_NEDE, NEDE_bg['(.)rho_lambda']/H0_NEDE**2,label=r'$\\rho_{\\Lambda}$',c=color_sequence[2])\n",
    "plt.axvline(x=NEDE_a_decay,ls=':',c='gray')\n",
    "plt.xlim((0.000005,1))\n",
    "\n",
    "\n",
    "plt.ylim((0.05,0.4e19))\n",
    "\n",
    "\n",
    "plt.xlabel(r'$a$',fontsize=fs)\n",
    "ax1.set_ylabel(r'$\\rho_{(\\circ)} / (3M_{pl}^2 H_0^2)$', fontsize=fs)\n",
    "plt.legend(fontsize=14)\n",
    "plt.setp(ax1.get_xticklabels(), fontsize=11)\n",
    "plt.setp(ax1.get_yticklabels(), fontsize=11)\n",
    "plt.savefig('fld_bg.pdf',bbox_inches='tight')\n",
    "plt.show()\n",
    "plt.close('all')\n",
    "\n",
    "\n",
    "\n"
   ]
  },
  {
   "cell_type": "code",
   "execution_count": null,
   "metadata": {},
   "outputs": [],
   "source": []
  },
  {
   "cell_type": "code",
   "execution_count": null,
   "metadata": {
    "Collapsed": "false",
    "collapsed": true,
    "jupyter": {
     "outputs_hidden": true,
     "source_hidden": true
    }
   },
   "outputs": [],
   "source": [
    "\n"
   ]
  },
  {
   "cell_type": "code",
   "execution_count": null,
   "metadata": {
    "Collapsed": "false"
   },
   "outputs": [],
   "source": [
    "\n"
   ]
  },
  {
   "cell_type": "code",
   "execution_count": null,
   "metadata": {
    "Collapsed": "false"
   },
   "outputs": [],
   "source": []
  },
  {
   "cell_type": "code",
   "execution_count": null,
   "metadata": {},
   "outputs": [],
   "source": []
  },
  {
   "cell_type": "code",
   "execution_count": null,
   "metadata": {
    "Collapsed": "false",
    "collapsed": true,
    "jupyter": {
     "outputs_hidden": true,
     "source_hidden": true
    }
   },
   "outputs": [],
   "source": []
  },
  {
   "cell_type": "code",
   "execution_count": 37,
   "metadata": {},
   "outputs": [
    {
     "ename": "CosmoSevereError",
     "evalue": "\n\nError in Class: nonlinear_pk_at_k_and_z(L:415) :condition ((k < 0.) || (k > exp(pnl->ln_k[pnl->k_size-1]))) is true; k=3.061631e+00 out of bounds [0.000000e+00:3.025064e+00]",
     "output_type": "error",
     "traceback": [
      "\u001b[0;31m---------------------------------------------------------------------------\u001b[0m",
      "\u001b[0;31mCosmoSevereError\u001b[0m                          Traceback (most recent call last)",
      "Input \u001b[0;32mIn [37]\u001b[0m, in \u001b[0;36m<cell line: 10>\u001b[0;34m()\u001b[0m\n\u001b[1;32m      7\u001b[0m twopi \u001b[38;5;241m=\u001b[39m \u001b[38;5;241m2.\u001b[39m\u001b[38;5;241m*\u001b[39mmath\u001b[38;5;241m.\u001b[39mpi\n\u001b[1;32m      8\u001b[0m zlin\u001b[38;5;241m=\u001b[39m\u001b[38;5;241m3\u001b[39m\n\u001b[0;32m---> 10\u001b[0m pkM_NEDE_1 \u001b[38;5;241m=\u001b[39m [NEDE\u001b[38;5;241m.\u001b[39mpk(ki\u001b[38;5;241m*\u001b[39mNEDE\u001b[38;5;241m.\u001b[39mh(), zlin)\u001b[38;5;241m*\u001b[39mNEDE\u001b[38;5;241m.\u001b[39mh()\u001b[38;5;241m*\u001b[39m\u001b[38;5;241m*\u001b[39m\u001b[38;5;241m3\u001b[39m \u001b[38;5;28;01mfor\u001b[39;00m ki \u001b[38;5;129;01min\u001b[39;00m kvec]  \n\u001b[1;32m     11\u001b[0m pkM_NEDE_2 \u001b[38;5;241m=\u001b[39m [NEDE2\u001b[38;5;241m.\u001b[39mpk(ki\u001b[38;5;241m*\u001b[39mNEDE2\u001b[38;5;241m.\u001b[39mh(), zlin)\u001b[38;5;241m*\u001b[39mNEDE2\u001b[38;5;241m.\u001b[39mh()\u001b[38;5;241m*\u001b[39m\u001b[38;5;241m*\u001b[39m\u001b[38;5;241m3\u001b[39m \u001b[38;5;28;01mfor\u001b[39;00m ki \u001b[38;5;129;01min\u001b[39;00m kvec]  \n\u001b[1;32m     12\u001b[0m pkM_LCDM \u001b[38;5;241m=\u001b[39m [LCDM\u001b[38;5;241m.\u001b[39mpk(ki\u001b[38;5;241m*\u001b[39mLCDM\u001b[38;5;241m.\u001b[39mh(), zlin)\u001b[38;5;241m*\u001b[39mLCDM\u001b[38;5;241m.\u001b[39mh()\u001b[38;5;241m*\u001b[39m\u001b[38;5;241m*\u001b[39m\u001b[38;5;241m3\u001b[39m \u001b[38;5;28;01mfor\u001b[39;00m ki \u001b[38;5;129;01min\u001b[39;00m kvec]  \n",
      "Input \u001b[0;32mIn [37]\u001b[0m, in \u001b[0;36m<listcomp>\u001b[0;34m(.0)\u001b[0m\n\u001b[1;32m      7\u001b[0m twopi \u001b[38;5;241m=\u001b[39m \u001b[38;5;241m2.\u001b[39m\u001b[38;5;241m*\u001b[39mmath\u001b[38;5;241m.\u001b[39mpi\n\u001b[1;32m      8\u001b[0m zlin\u001b[38;5;241m=\u001b[39m\u001b[38;5;241m3\u001b[39m\n\u001b[0;32m---> 10\u001b[0m pkM_NEDE_1 \u001b[38;5;241m=\u001b[39m [\u001b[43mNEDE\u001b[49m\u001b[38;5;241;43m.\u001b[39;49m\u001b[43mpk\u001b[49m\u001b[43m(\u001b[49m\u001b[43mki\u001b[49m\u001b[38;5;241;43m*\u001b[39;49m\u001b[43mNEDE\u001b[49m\u001b[38;5;241;43m.\u001b[39;49m\u001b[43mh\u001b[49m\u001b[43m(\u001b[49m\u001b[43m)\u001b[49m\u001b[43m,\u001b[49m\u001b[43m \u001b[49m\u001b[43mzlin\u001b[49m\u001b[43m)\u001b[49m\u001b[38;5;241m*\u001b[39mNEDE\u001b[38;5;241m.\u001b[39mh()\u001b[38;5;241m*\u001b[39m\u001b[38;5;241m*\u001b[39m\u001b[38;5;241m3\u001b[39m \u001b[38;5;28;01mfor\u001b[39;00m ki \u001b[38;5;129;01min\u001b[39;00m kvec]  \n\u001b[1;32m     11\u001b[0m pkM_NEDE_2 \u001b[38;5;241m=\u001b[39m [NEDE2\u001b[38;5;241m.\u001b[39mpk(ki\u001b[38;5;241m*\u001b[39mNEDE2\u001b[38;5;241m.\u001b[39mh(), zlin)\u001b[38;5;241m*\u001b[39mNEDE2\u001b[38;5;241m.\u001b[39mh()\u001b[38;5;241m*\u001b[39m\u001b[38;5;241m*\u001b[39m\u001b[38;5;241m3\u001b[39m \u001b[38;5;28;01mfor\u001b[39;00m ki \u001b[38;5;129;01min\u001b[39;00m kvec]  \n\u001b[1;32m     12\u001b[0m pkM_LCDM \u001b[38;5;241m=\u001b[39m [LCDM\u001b[38;5;241m.\u001b[39mpk(ki\u001b[38;5;241m*\u001b[39mLCDM\u001b[38;5;241m.\u001b[39mh(), zlin)\u001b[38;5;241m*\u001b[39mLCDM\u001b[38;5;241m.\u001b[39mh()\u001b[38;5;241m*\u001b[39m\u001b[38;5;241m*\u001b[39m\u001b[38;5;241m3\u001b[39m \u001b[38;5;28;01mfor\u001b[39;00m ki \u001b[38;5;129;01min\u001b[39;00m kvec]  \n",
      "File \u001b[0;32mclassy.pyx:765\u001b[0m, in \u001b[0;36mclassy.Class.pk\u001b[0;34m()\u001b[0m\n",
      "\u001b[0;31mCosmoSevereError\u001b[0m: \n\nError in Class: nonlinear_pk_at_k_and_z(L:415) :condition ((k < 0.) || (k > exp(pnl->ln_k[pnl->k_size-1]))) is true; k=3.061631e+00 out of bounds [0.000000e+00:3.025064e+00]"
     ]
    }
   ],
   "source": [
    "import math\n",
    "kvec = np.logspace(-4,3,1000)\n",
    "kvec_lin_space = np.linspace(0.0001,3000.,1000)\n",
    "#sigma8_end_k=((sigma8_LCDM_wo_LSS_cumulative_rel-0.95)**2).argmin()\n",
    "##sigma8_start_k=((sigma8_LCDM_wo_LSS_cumulative_rel-0.05)**2).argmin()\n",
    "legarray = []\n",
    "twopi = 2.*math.pi\n",
    "zlin=3\n",
    "\n",
    "pkM_NEDE_1 = [NEDE.pk(ki*NEDE.h(), zlin)*NEDE.h()**3 for ki in kvec]  \n",
    "pkM_NEDE_2 = [NEDE2.pk(ki*NEDE2.h(), zlin)*NEDE2.h()**3 for ki in kvec]  \n",
    "pkM_LCDM = [LCDM.pk(ki*LCDM.h(), zlin)*LCDM.h()**3 for ki in kvec]  \n",
    "\n",
    "print(pkM_NEDE_2[999],kvec[999])\n",
    "#pkM_LCDM_LSS = [LCDM2.pk(ki, zlin) for ki in kvec]  \n",
    "#pkM_NEDE_LSS = [EDE2.pk(ki, zlin) for ki in kvec]  \n",
    "\n",
    "    \n",
    "#pkM_OEDE_wo_LSS = np.load('./OEDE/OEDE_pkM.npy')\n",
    "\n",
    "\n",
    "#diff_pkM_LCDM_wo_LSS=np.array(pkM_LCDM)/(np.array(pkM_LCDM))-1 #LCDM\n",
    "diff_pkM_NEDE_1=np.array(pkM_NEDE_1)/(np.array(pkM_LCDM))-1 #NEDE + no LSS\n",
    "diff_pkM_NEDE_2=np.array(pkM_NEDE_2)/(np.array(pkM_LCDM))-1 #NEDE + LSS\n",
    "#diff_pkM_OEDE_wo_LSS=np.array(pkM_OEDE_wo_LSS)/np.array(pkM_LCDM_wo_LSS)-1 #OEDE + no LSS\n",
    "\n",
    "\n",
    "\n",
    "plt.rcParams[\"figure.figsize\"] = [8.0,6.0]\n",
    "axislabelfontsize='large'\n",
    "#fig_Pk, ax_Pk = plt.subplots()\n",
    "fig_Pk, axs_Pk = plt.subplots(nrows=1, ncols=1)#gridspec_kw={'height_ratios': [1, 1]})\n",
    "#fig_Pk.subplots_adjust(hspace=0,wspace=.05)\n",
    "#ax0_Pk=axs_Pk[0]\n",
    "#ax0_Pk.locator_params(axis='y', nbins=4)\n",
    "ax1_Pk=axs_Pk\n",
    "\n",
    "\n",
    "#ax0_Pk.loglog(kvec,np.array(pkM_NEDE_wo_LSS),linestyle='-',c=color_sequence[3],label=r'NEDE')\n",
    "#ax0_Pk.loglog(kvec,np.array(pkM_NEDE_LSS),linestyle=':',c=color_sequence[3],label=r'NEDE (w/ EFTofLSS)')\n",
    "#ax0_Pk.loglog(kvec,np.array(pkM_LCDM_wo_LSS),linestyle='-',c=color_sequence[2],label=r'$\\Lambda$CDM')\n",
    "#ax0_Pk.loglog(kvec,np.array(pkM_LCDM_LSS),linestyle=':',c=color_sequence[2],label=r'$\\Lambda$CDM (w/ EFTofLSS)')\n",
    "#ax0_Pk.loglog(kvec,np.array(pkM_OEDE_wo_LSS),c=cOEDE,ls='dashdot',label=r'EDE')\n",
    "\n",
    "\n",
    "#ax1_Pk.semilogx(common.k,diff)\n",
    "#ax1_Pk.semilogx(kvec/LCDM.h(),np.array(diff_pkM_LCDM_wo_LSS),linestyle='-',c=color_sequence[2],label=label_bf)\n",
    "#ax1_Pk.semilogx(kvec/LCDM2.h(),np.array(diff_pkM_LCDM_LSS),linestyle=':',c=color_sequence[2],label=label_bf)\n",
    "ax1_Pk.semilogx(kvec,np.array(diff_pkM_NEDE_1),linestyle='-',c='black',label='NEDE without Trigger DM')\n",
    "ax1_Pk.semilogx(kvec,np.array(diff_pkM_NEDE_2),linestyle='-',c=color_sequence[3],label='NEDE with Trigger DM')\n",
    "#ax1_Pk.semilogx(kvec,np.array(diff_pkM_OEDE_wo_LSS),c=cOEDE,ls='dashdot',label=r'EDE')\n",
    "#ax1_Pk.axvline(kvec_lin_space[sigma8_start_k+1],linestyle='dashdot',c='gray')\n",
    "#ax1_Pk.axvline(kvec_lin_space[sigma8_end_k+1],linestyle='dashdot',c='gray')\n",
    "ax1_Pk.axhline(0,linestyle='-',c='black')\n",
    "\n",
    "ax1_Pk.set_xlim([1.e-4,3000.])\n",
    "ax1_Pk.legend(fontsize=14, ncol=1,bbox_to_anchor=(0.4, 0.95))\n",
    "ax1_Pk.set_xlabel(r'$k \\,\\,\\,\\, [h/\\mathrm{Mpc}]$',fontsize=12)\n",
    "ax1_Pk.set_ylabel(r'$P_\\mathrm{lin}/P_\\mathrm{lin}|_{\\mathrm{NEDE}} - 1 $',fontsize=12)\n",
    "\n",
    "#ax0_Pk.legend(fontsize=12, ncol=1,bbox_to_anchor=(1, 1))\n",
    "plt.savefig('Pk_rel_NEDE.pdf',bbox_inches='tight')"
   ]
  },
  {
   "cell_type": "code",
   "execution_count": 38,
   "metadata": {
    "Collapsed": "false"
   },
   "outputs": [],
   "source": [
    "\n",
    "\n",
    "\n",
    "         \n",
    "\n",
    "\n",
    "\n",
    "cl_NEDE = NEDE.lensed_cl(2500)\n",
    "cl_NEDE2 =LCDM.lensed_cl(2500)\n",
    "\n",
    "lmin=2\n",
    "l = np.array(range(lmin,2501))\n",
    "#diff = np.array(range(lmin,2501))\n",
    "#diff2 = np.array(range(lmin,2501))\n",
    "factor = l*(l+1) /(2*np.pi) *10**(12)*2.7255**2\n",
    "factorE = l*(l+1) /(2*np.pi) *10**(12)*2.7255**2\n",
    "\n",
    "diff = -(cl_NEDE['tt'][lmin:]-cl_NEDE2['tt'][lmin:])/cl_NEDE2['tt'][lmin:]"
   ]
  },
  {
   "cell_type": "code",
   "execution_count": 39,
   "metadata": {
    "Collapsed": "false"
   },
   "outputs": [
    {
     "data": {
      "image/png": "[encoded data removed]",
      "text/plain": [
       "<Figure size 936x756 with 4 Axes>"
      ]
     },
     "metadata": {
      "needs_background": "light"
     },
     "output_type": "display_data"
    }
   ],
   "source": [
    "ms=2\n",
    "\n",
    "fs=14\n",
    "\n",
    "plt.rcParams['figure.figsize'] = [13, 10.5]\n",
    "fig, axs = plt.subplots(nrows=2, ncols=2,gridspec_kw={'width_ratios': [1, 3]})\n",
    "\n",
    "fig.subplots_adjust(wspace=0)\n",
    "ax1 = axs[0,0]\n",
    "#ax1.errorbar(cl_obs_tt_full[:l2max,0], resid2,yerr=resid2_err,fmt='o',color='black', markersize=ms,alpha=0.3)\n",
    "ax1.plot(l,np.zeros(l.shape) ,c='black',ls='-')\n",
    "ax1.plot(l[:30], diff[:30],c=color_sequence[3])\n",
    "\n",
    "\n",
    "ax1.set_ylim(-.5,.5)\n",
    "ax1.set_xlim(1,30)\n",
    "ax1.tick_params(labelbottom=False) \n",
    "\n",
    "\n",
    "ax2 = axs[0,1]\n",
    "ax2.yaxis.tick_right()\n",
    "#ax2.errorbar(cl_obs_tt[:,0], resid,yerr=resid_err,fmt='o',color='black', markersize=ms,alpha=0.3)\n",
    "ax2.plot(l,np.zeros(l.shape) ,c='black',ls='-')\n",
    "ax2.plot(l, diff,c=color_sequence[3],label=r'NEDE')\n",
    "\n",
    "\n",
    "ax2.tick_params(labelbottom=False) \n",
    "ax2.set_ylim(-0.02,0.02)\n",
    "ax2.set_xlim(30,2500)\n",
    "\n",
    "plt.show()"
   ]
  },
  {
   "cell_type": "code",
   "execution_count": null,
   "metadata": {
    "Collapsed": "false"
   },
   "outputs": [],
   "source": []
  },
  {
   "cell_type": "code",
   "execution_count": 40,
   "metadata": {
    "Collapsed": "false"
   },
   "outputs": [],
   "source": [
    "import math\n",
    "kvec = np.logspace(-4,np.log10(3),1000)\n",
    "legarray = []\n",
    "twopi = 2.*math.pi\n",
    "zlin=0"
   ]
  },
  {
   "cell_type": "code",
   "execution_count": 41,
   "metadata": {
    "Collapsed": "false"
   },
   "outputs": [
    {
     "data": {
      "image/png": "[encoded data removed]",
      "text/plain": [
       "<Figure size 576x432 with 1 Axes>"
      ]
     },
     "metadata": {
      "needs_background": "light"
     },
     "output_type": "display_data"
    }
   ],
   "source": [
    "pkM_NEDE = [NEDE.pk(ki*NEDE.h(), zlin)*NEDE.h()**3 for ki in kvec]  \n",
    "pkM_LCDM = [LCDM.pk(ki*LCDM.h(), zlin)*LCDM.h()**3 for ki in kvec]  \n",
    "\n",
    "\n",
    "diff_pkM_NEDE=np.array(pkM_NEDE)/(np.array(pkM_LCDM))-1 #NEDE + no LSS\n",
    "\n",
    "\n",
    "\n",
    "\n",
    "plt.rcParams[\"figure.figsize\"] = [8.0,6.0]\n",
    "axislabelfontsize='large'\n",
    "#fig_Pk, ax_Pk = plt.subplots()\n",
    "fig_Pk, axs_Pk = plt.subplots(nrows=1, ncols=1)#gridspec_kw={'height_ratios': [1, 1]})\n",
    "#fig_Pk.subplots_adjust(hspace=0,wspace=.05)\n",
    "#ax0_Pk=axs_Pk[0]\n",
    "#ax0_Pk.locator_params(axis='y', nbins=4)\n",
    "ax1_Pk=axs_Pk\n",
    "\n",
    "\n",
    "#ax0_Pk.loglog(kvec,np.array(pkM_NEDE_wo_LSS),linestyle='-',c=color_sequence[3],label=r'NEDE')\n",
    "#ax0_Pk.loglog(kvec,np.array(pkM_NEDE_LSS),linestyle=':',c=color_sequence[3],label=r'NEDE (w/ EFTofLSS)')\n",
    "#ax0_Pk.loglog(kvec,np.array(pkM_LCDM_wo_LSS),linestyle='-',c=color_sequence[2],label=r'$\\Lambda$CDM')\n",
    "#ax0_Pk.loglog(kvec,np.array(pkM_LCDM_LSS),linestyle=':',c=color_sequence[2],label=r'$\\Lambda$CDM (w/ EFTofLSS)')\n",
    "#ax0_Pk.loglog(kvec,np.array(pkM_OEDE_wo_LSS),c=cOEDE,ls='dashdot',label=r'EDE')\n",
    "\n",
    "\n",
    "#ax1_Pk.semilogx(common.k,diff)\n",
    "#ax1_Pk.semilogx(kvec/LCDM.h(),np.array(diff_pkM_LCDM_wo_LSS),linestyle='-',c=color_sequence[2],label=label_bf)\n",
    "#ax1_Pk.semilogx(kvec/LCDM2.h(),np.array(diff_pkM_LCDM_LSS),linestyle=':',c=color_sequence[2],label=label_bf)\n",
    "ax1_Pk.semilogx(kvec,np.array(diff_pkM_NEDE),linestyle='-',c='red',label='NEDE with Trigger DM')\n",
    "#ax1_Pk.semilogx(kvec,np.array(diff_pkM_OEDE_wo_LSS),c=cOEDE,ls='dashdot',label=r'EDE')\n",
    "#ax1_Pk.axvline(kvec_lin_space[sigma8_start_k+1],linestyle='dashdot',c='gray')\n",
    "#ax1_Pk.axvline(kvec_lin_space[sigma8_end_k+1],linestyle='dashdot',c='gray')\n",
    "ax1_Pk.axhline(0,linestyle='-',c='black')\n",
    "\n",
    "ax1_Pk.set_xlim([1.e-4,3.])\n",
    "ax1_Pk.legend(fontsize=14, ncol=1,bbox_to_anchor=(0.4, 0.95))\n",
    "ax1_Pk.set_xlabel(r'$k \\,\\,\\,\\, [h/\\mathrm{Mpc}]$',fontsize=12)\n",
    "ax1_Pk.set_ylabel(r'$P_\\mathrm{lin}/P_\\mathrm{lin}|_{\\mathrm{NEDE}} - 1 $',fontsize=12)\n",
    "\n",
    "#ax0_Pk.legend(fontsize=12, ncol=1,bbox_to_anchor=(1, 1))\n",
    "plt.savefig('Pk_rel_NEDE.pdf',bbox_inches='tight')\n"
   ]
  },
  {
   "cell_type": "code",
   "execution_count": null,
   "metadata": {
    "Collapsed": "false"
   },
   "outputs": [],
   "source": []
  },
  {
   "cell_type": "code",
   "execution_count": 15,
   "metadata": {
    "Collapsed": "false"
   },
   "outputs": [],
   "source": []
  },
  {
   "cell_type": "code",
   "execution_count": null,
   "metadata": {
    "Collapsed": "false"
   },
   "outputs": [],
   "source": []
  },
  {
   "cell_type": "code",
   "execution_count": null,
   "metadata": {
    "Collapsed": "false"
   },
   "outputs": [],
   "source": []
  },
  {
   "cell_type": "code",
   "execution_count": null,
   "metadata": {
    "Collapsed": "false"
   },
   "outputs": [],
   "source": []
  },
  {
   "cell_type": "code",
   "execution_count": null,
   "metadata": {
    "Collapsed": "false",
    "jupyter": {
     "source_hidden": true
    }
   },
   "outputs": [],
   "source": []
  },
  {
   "cell_type": "code",
   "execution_count": null,
   "metadata": {
    "Collapsed": "false"
   },
   "outputs": [],
   "source": []
  },
  {
   "cell_type": "code",
   "execution_count": null,
   "metadata": {
    "Collapsed": "false"
   },
   "outputs": [],
   "source": []
  },
  {
   "cell_type": "code",
   "execution_count": null,
   "metadata": {
    "Collapsed": "false"
   },
   "outputs": [],
   "source": []
  },
  {
   "cell_type": "code",
   "execution_count": null,
   "metadata": {
    "Collapsed": "false"
   },
   "outputs": [],
   "source": []
  },
  {
   "cell_type": "code",
   "execution_count": null,
   "metadata": {
    "Collapsed": "false"
   },
   "outputs": [],
   "source": []
  },
  {
   "cell_type": "code",
   "execution_count": null,
   "metadata": {
    "Collapsed": "false"
   },
   "outputs": [],
   "source": []
  },
  {
   "cell_type": "code",
   "execution_count": null,
   "metadata": {
    "Collapsed": "false"
   },
   "outputs": [],
   "source": []
  },
  {
   "cell_type": "code",
   "execution_count": null,
   "metadata": {
    "Collapsed": "false"
   },
   "outputs": [],
   "source": []
  },
  {
   "cell_type": "code",
   "execution_count": null,
   "metadata": {
    "Collapsed": "false"
   },
   "outputs": [],
   "source": []
  },
  {
   "cell_type": "code",
   "execution_count": null,
   "metadata": {
    "Collapsed": "false"
   },
   "outputs": [],
   "source": []
  },
  {
   "cell_type": "code",
   "execution_count": null,
   "metadata": {
    "Collapsed": "false"
   },
   "outputs": [],
   "source": [
    "\n",
    "\n"
   ]
  },
  {
   "cell_type": "code",
   "execution_count": null,
   "metadata": {
    "Collapsed": "false"
   },
   "outputs": [],
   "source": []
  }
 ],
 "metadata": {
  "interpreter": {
   "hash": "2916b472ba1b2ce600eae2086bd6eeef4cd583cdbcd8975639b839fb45a5483a"
  },
  "kernelspec": {
   "display_name": "Python 2",
   "language": "python",
   "name": "python3"
  },
  "language_info": {
   "codemirror_mode": {
    "name": "ipython",
    "version": 3
   },
   "file_extension": ".py",
   "mimetype": "text/x-python",
   "name": "python",
   "nbconvert_exporter": "python",
   "pygments_lexer": "ipython3",
   "version": "3.8.13"
  }
 },
 "nbformat": 4,
 "nbformat_minor": 4
}
